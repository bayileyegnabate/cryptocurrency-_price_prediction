{
 "cells": [
  {
   "cell_type": "code",
   "execution_count": 1,
   "id": "ee0eee1c",
   "metadata": {
    "scrolled": true
   },
   "outputs": [
    {
     "name": "stdout",
     "output_type": "stream",
     "text": [
      "Collecting yfinance\n",
      "  Using cached yfinance-0.1.74-py2.py3-none-any.whl (27 kB)\n",
      "Requirement already satisfied: lxml>=4.5.1 in /Users/tobix/opt/anaconda3/lib/python3.9/site-packages (from yfinance) (4.6.3)\n",
      "Requirement already satisfied: requests>=2.26 in /Users/tobix/opt/anaconda3/lib/python3.9/site-packages (from yfinance) (2.26.0)\n",
      "Collecting multitasking>=0.0.7\n",
      "  Using cached multitasking-0.0.11-py3-none-any.whl (8.5 kB)\n",
      "Requirement already satisfied: pandas>=0.24.0 in /Users/tobix/opt/anaconda3/lib/python3.9/site-packages (from yfinance) (1.3.4)\n",
      "Requirement already satisfied: numpy>=1.15 in /Users/tobix/opt/anaconda3/lib/python3.9/site-packages (from yfinance) (1.20.3)\n",
      "Requirement already satisfied: python-dateutil>=2.7.3 in /Users/tobix/opt/anaconda3/lib/python3.9/site-packages (from pandas>=0.24.0->yfinance) (2.8.2)\n",
      "Requirement already satisfied: pytz>=2017.3 in /Users/tobix/opt/anaconda3/lib/python3.9/site-packages (from pandas>=0.24.0->yfinance) (2021.3)\n",
      "Requirement already satisfied: six>=1.5 in /Users/tobix/opt/anaconda3/lib/python3.9/site-packages (from python-dateutil>=2.7.3->pandas>=0.24.0->yfinance) (1.16.0)\n",
      "Requirement already satisfied: certifi>=2017.4.17 in /Users/tobix/opt/anaconda3/lib/python3.9/site-packages (from requests>=2.26->yfinance) (2021.10.8)\n",
      "Requirement already satisfied: idna<4,>=2.5 in /Users/tobix/opt/anaconda3/lib/python3.9/site-packages (from requests>=2.26->yfinance) (3.2)\n",
      "Requirement already satisfied: charset-normalizer~=2.0.0 in /Users/tobix/opt/anaconda3/lib/python3.9/site-packages (from requests>=2.26->yfinance) (2.0.4)\n",
      "Requirement already satisfied: urllib3<1.27,>=1.21.1 in /Users/tobix/opt/anaconda3/lib/python3.9/site-packages (from requests>=2.26->yfinance) (1.26.7)\n",
      "Installing collected packages: multitasking, yfinance\n",
      "Successfully installed multitasking-0.0.11 yfinance-0.1.74\n"
     ]
    }
   ],
   "source": [
    "!pip install -U yfinance"
   ]
  },
  {
   "cell_type": "code",
   "execution_count": null,
   "id": "870af2ec",
   "metadata": {},
   "outputs": [],
   "source": []
  },
  {
   "cell_type": "code",
   "execution_count": 2,
   "id": "12ce273c",
   "metadata": {},
   "outputs": [],
   "source": [
    "# !pip show yfinance"
   ]
  },
  {
   "cell_type": "markdown",
   "id": "6762da49",
   "metadata": {},
   "source": [
    "### Import Dependencies ###"
   ]
  },
  {
   "cell_type": "code",
   "execution_count": 3,
   "id": "4ecf875a",
   "metadata": {
    "scrolled": true
   },
   "outputs": [],
   "source": [
    "import yfinance as yf"
   ]
  },
  {
   "cell_type": "markdown",
   "id": "eb025643",
   "metadata": {},
   "source": [
    "### Getting Data ###"
   ]
  },
  {
   "cell_type": "code",
   "execution_count": 4,
   "id": "58a22f0e",
   "metadata": {},
   "outputs": [],
   "source": [
    "kyl = yf.Ticker(\"KYL-USD\")\n",
    "\n",
    "# get stock info\n",
    "kyl.info\n",
    "\n",
    "# get historical market data\n",
    "hist = kyl.history(period=\"max\")"
   ]
  },
  {
   "cell_type": "code",
   "execution_count": 5,
   "id": "4ca4162f",
   "metadata": {},
   "outputs": [
    {
     "data": {
      "text/html": [
       "<div>\n",
       "<style scoped>\n",
       "    .dataframe tbody tr th:only-of-type {\n",
       "        vertical-align: middle;\n",
       "    }\n",
       "\n",
       "    .dataframe tbody tr th {\n",
       "        vertical-align: top;\n",
       "    }\n",
       "\n",
       "    .dataframe thead th {\n",
       "        text-align: right;\n",
       "    }\n",
       "</style>\n",
       "<table border=\"1\" class=\"dataframe\">\n",
       "  <thead>\n",
       "    <tr style=\"text-align: right;\">\n",
       "      <th></th>\n",
       "      <th>Open</th>\n",
       "      <th>High</th>\n",
       "      <th>Low</th>\n",
       "      <th>Close</th>\n",
       "      <th>Volume</th>\n",
       "      <th>Dividends</th>\n",
       "      <th>Stock Splits</th>\n",
       "    </tr>\n",
       "    <tr>\n",
       "      <th>Date</th>\n",
       "      <th></th>\n",
       "      <th></th>\n",
       "      <th></th>\n",
       "      <th></th>\n",
       "      <th></th>\n",
       "      <th></th>\n",
       "      <th></th>\n",
       "    </tr>\n",
       "  </thead>\n",
       "  <tbody>\n",
       "    <tr>\n",
       "      <th>2021-03-04</th>\n",
       "      <td>1.545186</td>\n",
       "      <td>1.625052</td>\n",
       "      <td>1.412657</td>\n",
       "      <td>1.442159</td>\n",
       "      <td>2342624</td>\n",
       "      <td>0</td>\n",
       "      <td>0</td>\n",
       "    </tr>\n",
       "    <tr>\n",
       "      <th>2021-03-05</th>\n",
       "      <td>1.444419</td>\n",
       "      <td>1.580701</td>\n",
       "      <td>0.704133</td>\n",
       "      <td>0.845732</td>\n",
       "      <td>55675664</td>\n",
       "      <td>0</td>\n",
       "      <td>0</td>\n",
       "    </tr>\n",
       "    <tr>\n",
       "      <th>2021-03-06</th>\n",
       "      <td>0.845550</td>\n",
       "      <td>1.007270</td>\n",
       "      <td>0.832757</td>\n",
       "      <td>0.897624</td>\n",
       "      <td>11231830</td>\n",
       "      <td>0</td>\n",
       "      <td>0</td>\n",
       "    </tr>\n",
       "    <tr>\n",
       "      <th>2021-03-07</th>\n",
       "      <td>0.897636</td>\n",
       "      <td>0.913484</td>\n",
       "      <td>0.694730</td>\n",
       "      <td>0.746384</td>\n",
       "      <td>13919662</td>\n",
       "      <td>0</td>\n",
       "      <td>0</td>\n",
       "    </tr>\n",
       "    <tr>\n",
       "      <th>2021-03-08</th>\n",
       "      <td>0.746185</td>\n",
       "      <td>0.896610</td>\n",
       "      <td>0.608316</td>\n",
       "      <td>0.813372</td>\n",
       "      <td>14603707</td>\n",
       "      <td>0</td>\n",
       "      <td>0</td>\n",
       "    </tr>\n",
       "    <tr>\n",
       "      <th>...</th>\n",
       "      <td>...</td>\n",
       "      <td>...</td>\n",
       "      <td>...</td>\n",
       "      <td>...</td>\n",
       "      <td>...</td>\n",
       "      <td>...</td>\n",
       "      <td>...</td>\n",
       "    </tr>\n",
       "    <tr>\n",
       "      <th>2022-08-09</th>\n",
       "      <td>0.021388</td>\n",
       "      <td>0.023477</td>\n",
       "      <td>0.019540</td>\n",
       "      <td>0.019802</td>\n",
       "      <td>192342</td>\n",
       "      <td>0</td>\n",
       "      <td>0</td>\n",
       "    </tr>\n",
       "    <tr>\n",
       "      <th>2022-08-10</th>\n",
       "      <td>0.019809</td>\n",
       "      <td>0.022713</td>\n",
       "      <td>0.019063</td>\n",
       "      <td>0.021402</td>\n",
       "      <td>116458</td>\n",
       "      <td>0</td>\n",
       "      <td>0</td>\n",
       "    </tr>\n",
       "    <tr>\n",
       "      <th>2022-08-11</th>\n",
       "      <td>0.021402</td>\n",
       "      <td>0.022687</td>\n",
       "      <td>0.020557</td>\n",
       "      <td>0.020778</td>\n",
       "      <td>135379</td>\n",
       "      <td>0</td>\n",
       "      <td>0</td>\n",
       "    </tr>\n",
       "    <tr>\n",
       "      <th>2022-08-12</th>\n",
       "      <td>0.020785</td>\n",
       "      <td>0.021442</td>\n",
       "      <td>0.019420</td>\n",
       "      <td>0.020726</td>\n",
       "      <td>218419</td>\n",
       "      <td>0</td>\n",
       "      <td>0</td>\n",
       "    </tr>\n",
       "    <tr>\n",
       "      <th>2022-08-13</th>\n",
       "      <td>0.020711</td>\n",
       "      <td>0.023389</td>\n",
       "      <td>0.020288</td>\n",
       "      <td>0.021418</td>\n",
       "      <td>288679</td>\n",
       "      <td>0</td>\n",
       "      <td>0</td>\n",
       "    </tr>\n",
       "  </tbody>\n",
       "</table>\n",
       "<p>528 rows × 7 columns</p>\n",
       "</div>"
      ],
      "text/plain": [
       "                Open      High       Low     Close    Volume  Dividends  \\\n",
       "Date                                                                      \n",
       "2021-03-04  1.545186  1.625052  1.412657  1.442159   2342624          0   \n",
       "2021-03-05  1.444419  1.580701  0.704133  0.845732  55675664          0   \n",
       "2021-03-06  0.845550  1.007270  0.832757  0.897624  11231830          0   \n",
       "2021-03-07  0.897636  0.913484  0.694730  0.746384  13919662          0   \n",
       "2021-03-08  0.746185  0.896610  0.608316  0.813372  14603707          0   \n",
       "...              ...       ...       ...       ...       ...        ...   \n",
       "2022-08-09  0.021388  0.023477  0.019540  0.019802    192342          0   \n",
       "2022-08-10  0.019809  0.022713  0.019063  0.021402    116458          0   \n",
       "2022-08-11  0.021402  0.022687  0.020557  0.020778    135379          0   \n",
       "2022-08-12  0.020785  0.021442  0.019420  0.020726    218419          0   \n",
       "2022-08-13  0.020711  0.023389  0.020288  0.021418    288679          0   \n",
       "\n",
       "            Stock Splits  \n",
       "Date                      \n",
       "2021-03-04             0  \n",
       "2021-03-05             0  \n",
       "2021-03-06             0  \n",
       "2021-03-07             0  \n",
       "2021-03-08             0  \n",
       "...                  ...  \n",
       "2022-08-09             0  \n",
       "2022-08-10             0  \n",
       "2022-08-11             0  \n",
       "2022-08-12             0  \n",
       "2022-08-13             0  \n",
       "\n",
       "[528 rows x 7 columns]"
      ]
     },
     "execution_count": 5,
     "metadata": {},
     "output_type": "execute_result"
    }
   ],
   "source": [
    "hist"
   ]
  },
  {
   "cell_type": "markdown",
   "id": "9e408bd3",
   "metadata": {},
   "source": [
    "### Create SQLite Database ###"
   ]
  },
  {
   "cell_type": "code",
   "execution_count": 6,
   "id": "2a9b823f",
   "metadata": {},
   "outputs": [],
   "source": [
    "import sqlalchemy as sql"
   ]
  },
  {
   "cell_type": "code",
   "execution_count": 7,
   "id": "e3d376e6",
   "metadata": {},
   "outputs": [],
   "source": [
    "engine=sql.create_engine('sqlite:///kylin_price.db')"
   ]
  },
  {
   "cell_type": "code",
   "execution_count": 8,
   "id": "9d3a4200",
   "metadata": {},
   "outputs": [
    {
     "name": "stderr",
     "output_type": "stream",
     "text": [
      "/var/folders/df/c8lfmtln1tl1qt_rb9ych34w0000gn/T/ipykernel_99097/628163206.py:2: SettingWithCopyWarning: \n",
      "A value is trying to be set on a copy of a slice from a DataFrame.\n",
      "Try using .loc[row_indexer,col_indexer] = value instead\n",
      "\n",
      "See the caveats in the documentation: https://pandas.pydata.org/pandas-docs/stable/user_guide/indexing.html#returning-a-view-versus-a-copy\n",
      "  data['Ticker']='KYL'\n"
     ]
    },
    {
     "data": {
      "text/html": [
       "<div>\n",
       "<style scoped>\n",
       "    .dataframe tbody tr th:only-of-type {\n",
       "        vertical-align: middle;\n",
       "    }\n",
       "\n",
       "    .dataframe tbody tr th {\n",
       "        vertical-align: top;\n",
       "    }\n",
       "\n",
       "    .dataframe thead th {\n",
       "        text-align: right;\n",
       "    }\n",
       "</style>\n",
       "<table border=\"1\" class=\"dataframe\">\n",
       "  <thead>\n",
       "    <tr style=\"text-align: right;\">\n",
       "      <th></th>\n",
       "      <th>Date</th>\n",
       "      <th>Close</th>\n",
       "      <th>Volume</th>\n",
       "      <th>Ticker</th>\n",
       "    </tr>\n",
       "  </thead>\n",
       "  <tbody>\n",
       "    <tr>\n",
       "      <th>0</th>\n",
       "      <td>2021-03-04</td>\n",
       "      <td>1.442159</td>\n",
       "      <td>2342624</td>\n",
       "      <td>KYL</td>\n",
       "    </tr>\n",
       "    <tr>\n",
       "      <th>1</th>\n",
       "      <td>2021-03-05</td>\n",
       "      <td>0.845732</td>\n",
       "      <td>55675664</td>\n",
       "      <td>KYL</td>\n",
       "    </tr>\n",
       "    <tr>\n",
       "      <th>2</th>\n",
       "      <td>2021-03-06</td>\n",
       "      <td>0.897624</td>\n",
       "      <td>11231830</td>\n",
       "      <td>KYL</td>\n",
       "    </tr>\n",
       "    <tr>\n",
       "      <th>3</th>\n",
       "      <td>2021-03-07</td>\n",
       "      <td>0.746384</td>\n",
       "      <td>13919662</td>\n",
       "      <td>KYL</td>\n",
       "    </tr>\n",
       "    <tr>\n",
       "      <th>4</th>\n",
       "      <td>2021-03-08</td>\n",
       "      <td>0.813372</td>\n",
       "      <td>14603707</td>\n",
       "      <td>KYL</td>\n",
       "    </tr>\n",
       "  </tbody>\n",
       "</table>\n",
       "</div>"
      ],
      "text/plain": [
       "        Date     Close    Volume Ticker\n",
       "0 2021-03-04  1.442159   2342624    KYL\n",
       "1 2021-03-05  0.845732  55675664    KYL\n",
       "2 2021-03-06  0.897624  11231830    KYL\n",
       "3 2021-03-07  0.746384  13919662    KYL\n",
       "4 2021-03-08  0.813372  14603707    KYL"
      ]
     },
     "execution_count": 8,
     "metadata": {},
     "output_type": "execute_result"
    }
   ],
   "source": [
    "data=hist[['Close', 'Volume']]\n",
    "data['Ticker']='KYL'\n",
    "data=data.reset_index()\n",
    "data.head()"
   ]
  },
  {
   "cell_type": "code",
   "execution_count": 9,
   "id": "c871825a",
   "metadata": {},
   "outputs": [],
   "source": [
    "data.to_sql('kylin_price', con=engine)"
   ]
  }
 ],
 "metadata": {
  "kernelspec": {
   "display_name": "Python 3 (ipykernel)",
   "language": "python",
   "name": "python3"
  },
  "language_info": {
   "codemirror_mode": {
    "name": "ipython",
    "version": 3
   },
   "file_extension": ".py",
   "mimetype": "text/x-python",
   "name": "python",
   "nbconvert_exporter": "python",
   "pygments_lexer": "ipython3",
   "version": "3.9.7"
  }
 },
 "nbformat": 4,
 "nbformat_minor": 5
}
