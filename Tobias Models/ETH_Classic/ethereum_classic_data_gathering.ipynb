{
 "cells": [
  {
   "cell_type": "code",
   "execution_count": 1,
   "id": "ee0eee1c",
   "metadata": {
    "scrolled": true
   },
   "outputs": [
    {
     "name": "stdout",
     "output_type": "stream",
     "text": [
      "Requirement already satisfied: yfinance in /Users/tobix/opt/anaconda3/lib/python3.9/site-packages (0.1.74)\n",
      "Requirement already satisfied: numpy>=1.15 in /Users/tobix/opt/anaconda3/lib/python3.9/site-packages (from yfinance) (1.20.3)\n",
      "Requirement already satisfied: lxml>=4.5.1 in /Users/tobix/opt/anaconda3/lib/python3.9/site-packages (from yfinance) (4.6.3)\n",
      "Requirement already satisfied: pandas>=0.24.0 in /Users/tobix/opt/anaconda3/lib/python3.9/site-packages (from yfinance) (1.3.4)\n",
      "Requirement already satisfied: multitasking>=0.0.7 in /Users/tobix/opt/anaconda3/lib/python3.9/site-packages (from yfinance) (0.0.11)\n",
      "Requirement already satisfied: requests>=2.26 in /Users/tobix/opt/anaconda3/lib/python3.9/site-packages (from yfinance) (2.26.0)\n",
      "Requirement already satisfied: python-dateutil>=2.7.3 in /Users/tobix/opt/anaconda3/lib/python3.9/site-packages (from pandas>=0.24.0->yfinance) (2.8.2)\n",
      "Requirement already satisfied: pytz>=2017.3 in /Users/tobix/opt/anaconda3/lib/python3.9/site-packages (from pandas>=0.24.0->yfinance) (2021.3)\n",
      "Requirement already satisfied: six>=1.5 in /Users/tobix/opt/anaconda3/lib/python3.9/site-packages (from python-dateutil>=2.7.3->pandas>=0.24.0->yfinance) (1.16.0)\n",
      "Requirement already satisfied: charset-normalizer~=2.0.0 in /Users/tobix/opt/anaconda3/lib/python3.9/site-packages (from requests>=2.26->yfinance) (2.0.4)\n",
      "Requirement already satisfied: idna<4,>=2.5 in /Users/tobix/opt/anaconda3/lib/python3.9/site-packages (from requests>=2.26->yfinance) (3.2)\n",
      "Requirement already satisfied: urllib3<1.27,>=1.21.1 in /Users/tobix/opt/anaconda3/lib/python3.9/site-packages (from requests>=2.26->yfinance) (1.26.7)\n",
      "Requirement already satisfied: certifi>=2017.4.17 in /Users/tobix/opt/anaconda3/lib/python3.9/site-packages (from requests>=2.26->yfinance) (2021.10.8)\n"
     ]
    }
   ],
   "source": [
    "!pip install -U yfinance"
   ]
  },
  {
   "cell_type": "code",
   "execution_count": null,
   "id": "870af2ec",
   "metadata": {},
   "outputs": [],
   "source": []
  },
  {
   "cell_type": "code",
   "execution_count": 2,
   "id": "12ce273c",
   "metadata": {},
   "outputs": [],
   "source": [
    "# !pip show yfinance"
   ]
  },
  {
   "cell_type": "markdown",
   "id": "6762da49",
   "metadata": {},
   "source": [
    "### Import Dependencies ###"
   ]
  },
  {
   "cell_type": "code",
   "execution_count": 3,
   "id": "4ecf875a",
   "metadata": {
    "scrolled": true
   },
   "outputs": [],
   "source": [
    "import yfinance as yf"
   ]
  },
  {
   "cell_type": "markdown",
   "id": "eb025643",
   "metadata": {},
   "source": [
    "### Getting Data ###"
   ]
  },
  {
   "cell_type": "code",
   "execution_count": 4,
   "id": "58a22f0e",
   "metadata": {},
   "outputs": [],
   "source": [
    "etc = yf.Ticker(\"ETC-USD\")\n",
    "\n",
    "# get stock info\n",
    "etc.info\n",
    "\n",
    "# get historical market data\n",
    "hist = etc.history(period=\"max\")"
   ]
  },
  {
   "cell_type": "code",
   "execution_count": 5,
   "id": "4ca4162f",
   "metadata": {},
   "outputs": [
    {
     "data": {
      "text/html": [
       "<div>\n",
       "<style scoped>\n",
       "    .dataframe tbody tr th:only-of-type {\n",
       "        vertical-align: middle;\n",
       "    }\n",
       "\n",
       "    .dataframe tbody tr th {\n",
       "        vertical-align: top;\n",
       "    }\n",
       "\n",
       "    .dataframe thead th {\n",
       "        text-align: right;\n",
       "    }\n",
       "</style>\n",
       "<table border=\"1\" class=\"dataframe\">\n",
       "  <thead>\n",
       "    <tr style=\"text-align: right;\">\n",
       "      <th></th>\n",
       "      <th>Open</th>\n",
       "      <th>High</th>\n",
       "      <th>Low</th>\n",
       "      <th>Close</th>\n",
       "      <th>Volume</th>\n",
       "      <th>Dividends</th>\n",
       "      <th>Stock Splits</th>\n",
       "    </tr>\n",
       "    <tr>\n",
       "      <th>Date</th>\n",
       "      <th></th>\n",
       "      <th></th>\n",
       "      <th></th>\n",
       "      <th></th>\n",
       "      <th></th>\n",
       "      <th></th>\n",
       "      <th></th>\n",
       "    </tr>\n",
       "  </thead>\n",
       "  <tbody>\n",
       "    <tr>\n",
       "      <th>2017-11-09</th>\n",
       "      <td>13.977200</td>\n",
       "      <td>14.496100</td>\n",
       "      <td>13.896400</td>\n",
       "      <td>14.209500</td>\n",
       "      <td>129201000</td>\n",
       "      <td>0</td>\n",
       "      <td>0</td>\n",
       "    </tr>\n",
       "    <tr>\n",
       "      <th>2017-11-10</th>\n",
       "      <td>14.188300</td>\n",
       "      <td>15.353500</td>\n",
       "      <td>13.917800</td>\n",
       "      <td>14.603100</td>\n",
       "      <td>299856992</td>\n",
       "      <td>0</td>\n",
       "      <td>0</td>\n",
       "    </tr>\n",
       "    <tr>\n",
       "      <th>2017-11-11</th>\n",
       "      <td>14.624500</td>\n",
       "      <td>19.813299</td>\n",
       "      <td>14.590800</td>\n",
       "      <td>19.420900</td>\n",
       "      <td>958982016</td>\n",
       "      <td>0</td>\n",
       "      <td>0</td>\n",
       "    </tr>\n",
       "    <tr>\n",
       "      <th>2017-11-12</th>\n",
       "      <td>19.461100</td>\n",
       "      <td>21.754101</td>\n",
       "      <td>15.036500</td>\n",
       "      <td>15.183700</td>\n",
       "      <td>697452992</td>\n",
       "      <td>0</td>\n",
       "      <td>0</td>\n",
       "    </tr>\n",
       "    <tr>\n",
       "      <th>2017-11-13</th>\n",
       "      <td>15.309400</td>\n",
       "      <td>16.662600</td>\n",
       "      <td>14.469700</td>\n",
       "      <td>16.105900</td>\n",
       "      <td>350880000</td>\n",
       "      <td>0</td>\n",
       "      <td>0</td>\n",
       "    </tr>\n",
       "    <tr>\n",
       "      <th>...</th>\n",
       "      <td>...</td>\n",
       "      <td>...</td>\n",
       "      <td>...</td>\n",
       "      <td>...</td>\n",
       "      <td>...</td>\n",
       "      <td>...</td>\n",
       "      <td>...</td>\n",
       "    </tr>\n",
       "    <tr>\n",
       "      <th>2022-08-09</th>\n",
       "      <td>38.009804</td>\n",
       "      <td>38.169735</td>\n",
       "      <td>35.749092</td>\n",
       "      <td>36.420509</td>\n",
       "      <td>884621887</td>\n",
       "      <td>0</td>\n",
       "      <td>0</td>\n",
       "    </tr>\n",
       "    <tr>\n",
       "      <th>2022-08-10</th>\n",
       "      <td>36.417870</td>\n",
       "      <td>39.293167</td>\n",
       "      <td>36.312904</td>\n",
       "      <td>38.726295</td>\n",
       "      <td>1585151839</td>\n",
       "      <td>0</td>\n",
       "      <td>0</td>\n",
       "    </tr>\n",
       "    <tr>\n",
       "      <th>2022-08-11</th>\n",
       "      <td>38.735577</td>\n",
       "      <td>44.311081</td>\n",
       "      <td>38.391933</td>\n",
       "      <td>42.255386</td>\n",
       "      <td>2550069903</td>\n",
       "      <td>0</td>\n",
       "      <td>0</td>\n",
       "    </tr>\n",
       "    <tr>\n",
       "      <th>2022-08-12</th>\n",
       "      <td>42.249588</td>\n",
       "      <td>43.625126</td>\n",
       "      <td>41.294617</td>\n",
       "      <td>43.443085</td>\n",
       "      <td>1525317047</td>\n",
       "      <td>0</td>\n",
       "      <td>0</td>\n",
       "    </tr>\n",
       "    <tr>\n",
       "      <th>2022-08-13</th>\n",
       "      <td>43.410114</td>\n",
       "      <td>45.506100</td>\n",
       "      <td>42.991257</td>\n",
       "      <td>43.525810</td>\n",
       "      <td>1337557002</td>\n",
       "      <td>0</td>\n",
       "      <td>0</td>\n",
       "    </tr>\n",
       "  </tbody>\n",
       "</table>\n",
       "<p>1739 rows × 7 columns</p>\n",
       "</div>"
      ],
      "text/plain": [
       "                 Open       High        Low      Close      Volume  Dividends  \\\n",
       "Date                                                                            \n",
       "2017-11-09  13.977200  14.496100  13.896400  14.209500   129201000          0   \n",
       "2017-11-10  14.188300  15.353500  13.917800  14.603100   299856992          0   \n",
       "2017-11-11  14.624500  19.813299  14.590800  19.420900   958982016          0   \n",
       "2017-11-12  19.461100  21.754101  15.036500  15.183700   697452992          0   \n",
       "2017-11-13  15.309400  16.662600  14.469700  16.105900   350880000          0   \n",
       "...               ...        ...        ...        ...         ...        ...   \n",
       "2022-08-09  38.009804  38.169735  35.749092  36.420509   884621887          0   \n",
       "2022-08-10  36.417870  39.293167  36.312904  38.726295  1585151839          0   \n",
       "2022-08-11  38.735577  44.311081  38.391933  42.255386  2550069903          0   \n",
       "2022-08-12  42.249588  43.625126  41.294617  43.443085  1525317047          0   \n",
       "2022-08-13  43.410114  45.506100  42.991257  43.525810  1337557002          0   \n",
       "\n",
       "            Stock Splits  \n",
       "Date                      \n",
       "2017-11-09             0  \n",
       "2017-11-10             0  \n",
       "2017-11-11             0  \n",
       "2017-11-12             0  \n",
       "2017-11-13             0  \n",
       "...                  ...  \n",
       "2022-08-09             0  \n",
       "2022-08-10             0  \n",
       "2022-08-11             0  \n",
       "2022-08-12             0  \n",
       "2022-08-13             0  \n",
       "\n",
       "[1739 rows x 7 columns]"
      ]
     },
     "execution_count": 5,
     "metadata": {},
     "output_type": "execute_result"
    }
   ],
   "source": [
    "hist"
   ]
  },
  {
   "cell_type": "markdown",
   "id": "9e408bd3",
   "metadata": {},
   "source": [
    "### Create SQLite Database ###"
   ]
  },
  {
   "cell_type": "code",
   "execution_count": 6,
   "id": "2a9b823f",
   "metadata": {},
   "outputs": [],
   "source": [
    "import sqlalchemy as sql"
   ]
  },
  {
   "cell_type": "code",
   "execution_count": 7,
   "id": "e3d376e6",
   "metadata": {},
   "outputs": [],
   "source": [
    "engine=sql.create_engine('sqlite:///ethclassic_price.db')"
   ]
  },
  {
   "cell_type": "code",
   "execution_count": 8,
   "id": "9d3a4200",
   "metadata": {},
   "outputs": [
    {
     "name": "stderr",
     "output_type": "stream",
     "text": [
      "/var/folders/df/c8lfmtln1tl1qt_rb9ych34w0000gn/T/ipykernel_99145/2521270605.py:2: SettingWithCopyWarning: \n",
      "A value is trying to be set on a copy of a slice from a DataFrame.\n",
      "Try using .loc[row_indexer,col_indexer] = value instead\n",
      "\n",
      "See the caveats in the documentation: https://pandas.pydata.org/pandas-docs/stable/user_guide/indexing.html#returning-a-view-versus-a-copy\n",
      "  data['Ticker']='ETC'\n"
     ]
    },
    {
     "data": {
      "text/html": [
       "<div>\n",
       "<style scoped>\n",
       "    .dataframe tbody tr th:only-of-type {\n",
       "        vertical-align: middle;\n",
       "    }\n",
       "\n",
       "    .dataframe tbody tr th {\n",
       "        vertical-align: top;\n",
       "    }\n",
       "\n",
       "    .dataframe thead th {\n",
       "        text-align: right;\n",
       "    }\n",
       "</style>\n",
       "<table border=\"1\" class=\"dataframe\">\n",
       "  <thead>\n",
       "    <tr style=\"text-align: right;\">\n",
       "      <th></th>\n",
       "      <th>Date</th>\n",
       "      <th>Close</th>\n",
       "      <th>Volume</th>\n",
       "      <th>Ticker</th>\n",
       "    </tr>\n",
       "  </thead>\n",
       "  <tbody>\n",
       "    <tr>\n",
       "      <th>0</th>\n",
       "      <td>2017-11-09</td>\n",
       "      <td>14.2095</td>\n",
       "      <td>129201000</td>\n",
       "      <td>ETC</td>\n",
       "    </tr>\n",
       "    <tr>\n",
       "      <th>1</th>\n",
       "      <td>2017-11-10</td>\n",
       "      <td>14.6031</td>\n",
       "      <td>299856992</td>\n",
       "      <td>ETC</td>\n",
       "    </tr>\n",
       "    <tr>\n",
       "      <th>2</th>\n",
       "      <td>2017-11-11</td>\n",
       "      <td>19.4209</td>\n",
       "      <td>958982016</td>\n",
       "      <td>ETC</td>\n",
       "    </tr>\n",
       "    <tr>\n",
       "      <th>3</th>\n",
       "      <td>2017-11-12</td>\n",
       "      <td>15.1837</td>\n",
       "      <td>697452992</td>\n",
       "      <td>ETC</td>\n",
       "    </tr>\n",
       "    <tr>\n",
       "      <th>4</th>\n",
       "      <td>2017-11-13</td>\n",
       "      <td>16.1059</td>\n",
       "      <td>350880000</td>\n",
       "      <td>ETC</td>\n",
       "    </tr>\n",
       "  </tbody>\n",
       "</table>\n",
       "</div>"
      ],
      "text/plain": [
       "        Date    Close     Volume Ticker\n",
       "0 2017-11-09  14.2095  129201000    ETC\n",
       "1 2017-11-10  14.6031  299856992    ETC\n",
       "2 2017-11-11  19.4209  958982016    ETC\n",
       "3 2017-11-12  15.1837  697452992    ETC\n",
       "4 2017-11-13  16.1059  350880000    ETC"
      ]
     },
     "execution_count": 8,
     "metadata": {},
     "output_type": "execute_result"
    }
   ],
   "source": [
    "data=hist[['Close', 'Volume']]\n",
    "data['Ticker']='ETC'\n",
    "data=data.reset_index()\n",
    "data.head()"
   ]
  },
  {
   "cell_type": "code",
   "execution_count": 9,
   "id": "c871825a",
   "metadata": {},
   "outputs": [],
   "source": [
    "data.to_sql('ethclassic_price', con=engine)"
   ]
  }
 ],
 "metadata": {
  "kernelspec": {
   "display_name": "Python 3 (ipykernel)",
   "language": "python",
   "name": "python3"
  },
  "language_info": {
   "codemirror_mode": {
    "name": "ipython",
    "version": 3
   },
   "file_extension": ".py",
   "mimetype": "text/x-python",
   "name": "python",
   "nbconvert_exporter": "python",
   "pygments_lexer": "ipython3",
   "version": "3.9.7"
  }
 },
 "nbformat": 4,
 "nbformat_minor": 5
}
