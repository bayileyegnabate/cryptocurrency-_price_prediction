{
 "cells": [
  {
   "cell_type": "code",
   "execution_count": 1,
   "id": "ee0eee1c",
   "metadata": {
    "scrolled": true
   },
   "outputs": [
    {
     "name": "stdout",
     "output_type": "stream",
     "text": [
      "Collecting yfinance\n",
      "  Downloading yfinance-0.1.74-py2.py3-none-any.whl (27 kB)\n",
      "Requirement already satisfied: requests>=2.26 in /Users/DottiP/opt/anaconda3/envs/PythonData/lib/python3.7/site-packages (from yfinance) (2.26.0)\n",
      "Requirement already satisfied: lxml>=4.5.1 in /Users/DottiP/opt/anaconda3/envs/PythonData/lib/python3.7/site-packages (from yfinance) (4.6.3)\n",
      "Requirement already satisfied: numpy>=1.15 in /Users/DottiP/opt/anaconda3/envs/PythonData/lib/python3.7/site-packages (from yfinance) (1.20.3)\n",
      "Requirement already satisfied: pandas>=0.24.0 in /Users/DottiP/opt/anaconda3/envs/PythonData/lib/python3.7/site-packages (from yfinance) (1.3.4)\n",
      "Collecting multitasking>=0.0.7\n",
      "  Downloading multitasking-0.0.11-py3-none-any.whl (8.5 kB)\n",
      "Requirement already satisfied: python-dateutil>=2.7.3 in /Users/DottiP/opt/anaconda3/envs/PythonData/lib/python3.7/site-packages (from pandas>=0.24.0->yfinance) (2.8.2)\n",
      "Requirement already satisfied: pytz>=2017.3 in /Users/DottiP/opt/anaconda3/envs/PythonData/lib/python3.7/site-packages (from pandas>=0.24.0->yfinance) (2021.3)\n",
      "Requirement already satisfied: six>=1.5 in /Users/DottiP/opt/anaconda3/envs/PythonData/lib/python3.7/site-packages (from python-dateutil>=2.7.3->pandas>=0.24.0->yfinance) (1.16.0)\n",
      "Requirement already satisfied: idna<4,>=2.5 in /Users/DottiP/opt/anaconda3/envs/PythonData/lib/python3.7/site-packages (from requests>=2.26->yfinance) (3.2)\n",
      "Requirement already satisfied: urllib3<1.27,>=1.21.1 in /Users/DottiP/opt/anaconda3/envs/PythonData/lib/python3.7/site-packages (from requests>=2.26->yfinance) (1.26.7)\n",
      "Requirement already satisfied: certifi>=2017.4.17 in /Users/DottiP/opt/anaconda3/envs/PythonData/lib/python3.7/site-packages (from requests>=2.26->yfinance) (2021.10.8)\n",
      "Requirement already satisfied: charset-normalizer~=2.0.0 in /Users/DottiP/opt/anaconda3/envs/PythonData/lib/python3.7/site-packages (from requests>=2.26->yfinance) (2.0.4)\n",
      "Installing collected packages: multitasking, yfinance\n",
      "Successfully installed multitasking-0.0.11 yfinance-0.1.74\n"
     ]
    }
   ],
   "source": [
    "!pip install -U yfinance"
   ]
  },
  {
   "cell_type": "code",
   "execution_count": 2,
   "id": "12ce273c",
   "metadata": {
    "scrolled": true
   },
   "outputs": [
    {
     "name": "stdout",
     "output_type": "stream",
     "text": [
      "Name: yfinance\r\n",
      "Version: 0.1.74\r\n",
      "Summary: Download market data from Yahoo! Finance API\r\n",
      "Home-page: https://github.com/ranaroussi/yfinance\r\n",
      "Author: Ran Aroussi\r\n",
      "Author-email: ran@aroussi.com\r\n",
      "License: Apache\r\n",
      "Location: /Users/DottiP/opt/anaconda3/envs/PythonData/lib/python3.7/site-packages\r\n",
      "Requires: lxml, multitasking, requests, pandas, numpy\r\n",
      "Required-by: \r\n"
     ]
    }
   ],
   "source": [
    "!pip show yfinance"
   ]
  },
  {
   "cell_type": "markdown",
   "id": "6762da49",
   "metadata": {},
   "source": [
    "### Import Dependencies ###"
   ]
  },
  {
   "cell_type": "code",
   "execution_count": 3,
   "id": "4ecf875a",
   "metadata": {
    "scrolled": true
   },
   "outputs": [],
   "source": [
    "import yfinance as yf"
   ]
  },
  {
   "cell_type": "markdown",
   "id": "eb025643",
   "metadata": {},
   "source": [
    "### Getting Data ###"
   ]
  },
  {
   "cell_type": "code",
   "execution_count": 4,
   "id": "58a22f0e",
   "metadata": {},
   "outputs": [],
   "source": [
    "bnb = yf.Ticker(\"BNB-USD\")\n",
    "\n",
    "# get stock info\n",
    "bnb.info\n",
    "\n",
    "# get historical market data\n",
    "hist = bnb.history(period=\"max\")"
   ]
  },
  {
   "cell_type": "code",
   "execution_count": 5,
   "id": "4ca4162f",
   "metadata": {},
   "outputs": [
    {
     "data": {
      "text/html": [
       "<div>\n",
       "<style scoped>\n",
       "    .dataframe tbody tr th:only-of-type {\n",
       "        vertical-align: middle;\n",
       "    }\n",
       "\n",
       "    .dataframe tbody tr th {\n",
       "        vertical-align: top;\n",
       "    }\n",
       "\n",
       "    .dataframe thead th {\n",
       "        text-align: right;\n",
       "    }\n",
       "</style>\n",
       "<table border=\"1\" class=\"dataframe\">\n",
       "  <thead>\n",
       "    <tr style=\"text-align: right;\">\n",
       "      <th></th>\n",
       "      <th>Open</th>\n",
       "      <th>High</th>\n",
       "      <th>Low</th>\n",
       "      <th>Close</th>\n",
       "      <th>Volume</th>\n",
       "      <th>Dividends</th>\n",
       "      <th>Stock Splits</th>\n",
       "    </tr>\n",
       "    <tr>\n",
       "      <th>Date</th>\n",
       "      <th></th>\n",
       "      <th></th>\n",
       "      <th></th>\n",
       "      <th></th>\n",
       "      <th></th>\n",
       "      <th></th>\n",
       "      <th></th>\n",
       "    </tr>\n",
       "  </thead>\n",
       "  <tbody>\n",
       "    <tr>\n",
       "      <th>2017-11-09</th>\n",
       "      <td>2.053140</td>\n",
       "      <td>2.174230</td>\n",
       "      <td>1.893940</td>\n",
       "      <td>1.990770</td>\n",
       "      <td>19192200</td>\n",
       "      <td>0</td>\n",
       "      <td>0</td>\n",
       "    </tr>\n",
       "    <tr>\n",
       "      <th>2017-11-10</th>\n",
       "      <td>2.007730</td>\n",
       "      <td>2.069470</td>\n",
       "      <td>1.644780</td>\n",
       "      <td>1.796840</td>\n",
       "      <td>11155000</td>\n",
       "      <td>0</td>\n",
       "      <td>0</td>\n",
       "    </tr>\n",
       "    <tr>\n",
       "      <th>2017-11-11</th>\n",
       "      <td>1.786280</td>\n",
       "      <td>1.917750</td>\n",
       "      <td>1.614290</td>\n",
       "      <td>1.670470</td>\n",
       "      <td>8178150</td>\n",
       "      <td>0</td>\n",
       "      <td>0</td>\n",
       "    </tr>\n",
       "    <tr>\n",
       "      <th>2017-11-12</th>\n",
       "      <td>1.668890</td>\n",
       "      <td>1.672800</td>\n",
       "      <td>1.462560</td>\n",
       "      <td>1.519690</td>\n",
       "      <td>15298700</td>\n",
       "      <td>0</td>\n",
       "      <td>0</td>\n",
       "    </tr>\n",
       "    <tr>\n",
       "      <th>2017-11-13</th>\n",
       "      <td>1.526010</td>\n",
       "      <td>1.735020</td>\n",
       "      <td>1.517600</td>\n",
       "      <td>1.686620</td>\n",
       "      <td>12238800</td>\n",
       "      <td>0</td>\n",
       "      <td>0</td>\n",
       "    </tr>\n",
       "    <tr>\n",
       "      <th>...</th>\n",
       "      <td>...</td>\n",
       "      <td>...</td>\n",
       "      <td>...</td>\n",
       "      <td>...</td>\n",
       "      <td>...</td>\n",
       "      <td>...</td>\n",
       "      <td>...</td>\n",
       "    </tr>\n",
       "    <tr>\n",
       "      <th>2022-08-02</th>\n",
       "      <td>283.476349</td>\n",
       "      <td>290.536774</td>\n",
       "      <td>274.820465</td>\n",
       "      <td>283.820984</td>\n",
       "      <td>1768344106</td>\n",
       "      <td>0</td>\n",
       "      <td>0</td>\n",
       "    </tr>\n",
       "    <tr>\n",
       "      <th>2022-08-03</th>\n",
       "      <td>283.873840</td>\n",
       "      <td>305.186859</td>\n",
       "      <td>278.811829</td>\n",
       "      <td>298.356781</td>\n",
       "      <td>2133584480</td>\n",
       "      <td>0</td>\n",
       "      <td>0</td>\n",
       "    </tr>\n",
       "    <tr>\n",
       "      <th>2022-08-04</th>\n",
       "      <td>298.370117</td>\n",
       "      <td>312.748108</td>\n",
       "      <td>297.432037</td>\n",
       "      <td>310.706055</td>\n",
       "      <td>1926587001</td>\n",
       "      <td>0</td>\n",
       "      <td>0</td>\n",
       "    </tr>\n",
       "    <tr>\n",
       "      <th>2022-08-05</th>\n",
       "      <td>310.693604</td>\n",
       "      <td>320.956604</td>\n",
       "      <td>308.606812</td>\n",
       "      <td>315.185547</td>\n",
       "      <td>1585061398</td>\n",
       "      <td>0</td>\n",
       "      <td>0</td>\n",
       "    </tr>\n",
       "    <tr>\n",
       "      <th>2022-08-06</th>\n",
       "      <td>315.196991</td>\n",
       "      <td>321.839691</td>\n",
       "      <td>313.733643</td>\n",
       "      <td>315.068909</td>\n",
       "      <td>1151509385</td>\n",
       "      <td>0</td>\n",
       "      <td>0</td>\n",
       "    </tr>\n",
       "  </tbody>\n",
       "</table>\n",
       "<p>1732 rows × 7 columns</p>\n",
       "</div>"
      ],
      "text/plain": [
       "                  Open        High         Low       Close      Volume  \\\n",
       "Date                                                                     \n",
       "2017-11-09    2.053140    2.174230    1.893940    1.990770    19192200   \n",
       "2017-11-10    2.007730    2.069470    1.644780    1.796840    11155000   \n",
       "2017-11-11    1.786280    1.917750    1.614290    1.670470     8178150   \n",
       "2017-11-12    1.668890    1.672800    1.462560    1.519690    15298700   \n",
       "2017-11-13    1.526010    1.735020    1.517600    1.686620    12238800   \n",
       "...                ...         ...         ...         ...         ...   \n",
       "2022-08-02  283.476349  290.536774  274.820465  283.820984  1768344106   \n",
       "2022-08-03  283.873840  305.186859  278.811829  298.356781  2133584480   \n",
       "2022-08-04  298.370117  312.748108  297.432037  310.706055  1926587001   \n",
       "2022-08-05  310.693604  320.956604  308.606812  315.185547  1585061398   \n",
       "2022-08-06  315.196991  321.839691  313.733643  315.068909  1151509385   \n",
       "\n",
       "            Dividends  Stock Splits  \n",
       "Date                                 \n",
       "2017-11-09          0             0  \n",
       "2017-11-10          0             0  \n",
       "2017-11-11          0             0  \n",
       "2017-11-12          0             0  \n",
       "2017-11-13          0             0  \n",
       "...               ...           ...  \n",
       "2022-08-02          0             0  \n",
       "2022-08-03          0             0  \n",
       "2022-08-04          0             0  \n",
       "2022-08-05          0             0  \n",
       "2022-08-06          0             0  \n",
       "\n",
       "[1732 rows x 7 columns]"
      ]
     },
     "execution_count": 5,
     "metadata": {},
     "output_type": "execute_result"
    }
   ],
   "source": [
    "hist"
   ]
  },
  {
   "cell_type": "markdown",
   "id": "9e408bd3",
   "metadata": {},
   "source": [
    "### Create SQLite Database ###"
   ]
  },
  {
   "cell_type": "code",
   "execution_count": 6,
   "id": "2a9b823f",
   "metadata": {},
   "outputs": [],
   "source": [
    "import sqlalchemy as sql"
   ]
  },
  {
   "cell_type": "code",
   "execution_count": 7,
   "id": "e3d376e6",
   "metadata": {},
   "outputs": [],
   "source": [
    "engine=sql.create_engine('sqlite:///bnb_crypto_price_db.db')"
   ]
  },
  {
   "cell_type": "code",
   "execution_count": 8,
   "id": "9d3a4200",
   "metadata": {},
   "outputs": [
    {
     "name": "stderr",
     "output_type": "stream",
     "text": [
      "/Users/DottiP/opt/anaconda3/envs/PythonData/lib/python3.7/site-packages/ipykernel_launcher.py:2: SettingWithCopyWarning: \n",
      "A value is trying to be set on a copy of a slice from a DataFrame.\n",
      "Try using .loc[row_indexer,col_indexer] = value instead\n",
      "\n",
      "See the caveats in the documentation: https://pandas.pydata.org/pandas-docs/stable/user_guide/indexing.html#returning-a-view-versus-a-copy\n",
      "  \n"
     ]
    },
    {
     "data": {
      "text/html": [
       "<div>\n",
       "<style scoped>\n",
       "    .dataframe tbody tr th:only-of-type {\n",
       "        vertical-align: middle;\n",
       "    }\n",
       "\n",
       "    .dataframe tbody tr th {\n",
       "        vertical-align: top;\n",
       "    }\n",
       "\n",
       "    .dataframe thead th {\n",
       "        text-align: right;\n",
       "    }\n",
       "</style>\n",
       "<table border=\"1\" class=\"dataframe\">\n",
       "  <thead>\n",
       "    <tr style=\"text-align: right;\">\n",
       "      <th></th>\n",
       "      <th>Date</th>\n",
       "      <th>Close</th>\n",
       "      <th>Volume</th>\n",
       "      <th>Ticker</th>\n",
       "    </tr>\n",
       "  </thead>\n",
       "  <tbody>\n",
       "    <tr>\n",
       "      <th>0</th>\n",
       "      <td>2017-11-09</td>\n",
       "      <td>1.99077</td>\n",
       "      <td>19192200</td>\n",
       "      <td>BNB</td>\n",
       "    </tr>\n",
       "    <tr>\n",
       "      <th>1</th>\n",
       "      <td>2017-11-10</td>\n",
       "      <td>1.79684</td>\n",
       "      <td>11155000</td>\n",
       "      <td>BNB</td>\n",
       "    </tr>\n",
       "    <tr>\n",
       "      <th>2</th>\n",
       "      <td>2017-11-11</td>\n",
       "      <td>1.67047</td>\n",
       "      <td>8178150</td>\n",
       "      <td>BNB</td>\n",
       "    </tr>\n",
       "    <tr>\n",
       "      <th>3</th>\n",
       "      <td>2017-11-12</td>\n",
       "      <td>1.51969</td>\n",
       "      <td>15298700</td>\n",
       "      <td>BNB</td>\n",
       "    </tr>\n",
       "    <tr>\n",
       "      <th>4</th>\n",
       "      <td>2017-11-13</td>\n",
       "      <td>1.68662</td>\n",
       "      <td>12238800</td>\n",
       "      <td>BNB</td>\n",
       "    </tr>\n",
       "  </tbody>\n",
       "</table>\n",
       "</div>"
      ],
      "text/plain": [
       "        Date    Close    Volume Ticker\n",
       "0 2017-11-09  1.99077  19192200    BNB\n",
       "1 2017-11-10  1.79684  11155000    BNB\n",
       "2 2017-11-11  1.67047   8178150    BNB\n",
       "3 2017-11-12  1.51969  15298700    BNB\n",
       "4 2017-11-13  1.68662  12238800    BNB"
      ]
     },
     "execution_count": 8,
     "metadata": {},
     "output_type": "execute_result"
    }
   ],
   "source": [
    "data=hist[['Close', 'Volume']]\n",
    "data['Ticker']='BNB'\n",
    "data=data.reset_index()\n",
    "data.head()"
   ]
  },
  {
   "cell_type": "code",
   "execution_count": 9,
   "id": "c871825a",
   "metadata": {},
   "outputs": [],
   "source": [
    "data.to_sql('bnb_cypto_price', con=engine)"
   ]
  },
  {
   "cell_type": "code",
   "execution_count": null,
   "id": "69cda2c0",
   "metadata": {},
   "outputs": [],
   "source": []
  }
 ],
 "metadata": {
  "kernelspec": {
   "display_name": "Python 3 (ipykernel)",
   "language": "python",
   "name": "python3"
  },
  "language_info": {
   "codemirror_mode": {
    "name": "ipython",
    "version": 3
   },
   "file_extension": ".py",
   "mimetype": "text/x-python",
   "name": "python",
   "nbconvert_exporter": "python",
   "pygments_lexer": "ipython3",
   "version": "3.7.11"
  }
 },
 "nbformat": 4,
 "nbformat_minor": 5
}
