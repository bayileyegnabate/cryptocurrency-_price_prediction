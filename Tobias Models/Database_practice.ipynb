{
 "cells": [
  {
   "cell_type": "markdown",
   "id": "e4e522a2",
   "metadata": {},
   "source": [
    "Read from local"
   ]
  },
  {
   "cell_type": "code",
   "execution_count": 1,
   "id": "160b130c",
   "metadata": {},
   "outputs": [],
   "source": [
    "import sqlalchemy as sql"
   ]
  },
  {
   "cell_type": "code",
   "execution_count": 4,
   "id": "82c7fed9",
   "metadata": {},
   "outputs": [
    {
     "name": "stderr",
     "output_type": "stream",
     "text": [
      "/Users/tobix/opt/anaconda3/envs/PythonData/lib/python3.7/site-packages/ipykernel_launcher.py:2: SADeprecationWarning: The Engine.table_names() method is deprecated and will be removed in a future release.  Please refer to Inspector.get_table_names(). (deprecated since: 1.4)\n",
      "  \n"
     ]
    },
    {
     "data": {
      "text/plain": [
       "['solana_price']"
      ]
     },
     "execution_count": 4,
     "metadata": {},
     "output_type": "execute_result"
    }
   ],
   "source": [
    "sqlite_engine=sql.create_engine('sqlite:///Solana/solana_price_db.db')\n",
    "sqlite_engine.table_names()"
   ]
  },
  {
   "cell_type": "code",
   "execution_count": 3,
   "id": "e5cc806f",
   "metadata": {},
   "outputs": [],
   "source": [
    "import pandas as pd"
   ]
  },
  {
   "cell_type": "code",
   "execution_count": 13,
   "id": "f1497653",
   "metadata": {},
   "outputs": [],
   "source": [
    "df=pd.read_sql_table('solana_price', con=sqlite_engine)\n",
    "df=df.iloc[:, 1:]"
   ]
  },
  {
   "cell_type": "markdown",
   "id": "e2665464",
   "metadata": {},
   "source": [
    "# Transfer to AWS"
   ]
  },
  {
   "cell_type": "code",
   "execution_count": 7,
   "id": "633f22ce",
   "metadata": {},
   "outputs": [],
   "source": [
    "import config"
   ]
  },
  {
   "cell_type": "code",
   "execution_count": null,
   "id": "de6baddf",
   "metadata": {},
   "outputs": [],
   "source": []
  },
  {
   "cell_type": "code",
   "execution_count": 8,
   "id": "e1a041a7",
   "metadata": {},
   "outputs": [],
   "source": [
    "endpoint='crypto-predictor.cpqcgmq1nns2.us-east-1.rds.amazonaws.com'\n",
    "username='cryptomain'"
   ]
  },
  {
   "cell_type": "code",
   "execution_count": 10,
   "id": "56e88f3d",
   "metadata": {},
   "outputs": [],
   "source": [
    "connection_url=f'postgresql://{username}:{config.aws_password}@{endpoint}:5432/crypto-predictor'"
   ]
  },
  {
   "cell_type": "code",
   "execution_count": 11,
   "id": "2bc2ddb5",
   "metadata": {},
   "outputs": [],
   "source": [
    "aws_engine=sql.create_engine(connection_url)"
   ]
  },
  {
   "cell_type": "code",
   "execution_count": 14,
   "id": "0813aa3d",
   "metadata": {},
   "outputs": [],
   "source": [
    "df.to_sql('solana', con=aws_engine, index=False, if_exists='replace')"
   ]
  },
  {
   "cell_type": "code",
   "execution_count": null,
   "id": "281bb0b6",
   "metadata": {},
   "outputs": [],
   "source": []
  }
 ],
 "metadata": {
  "kernelspec": {
   "display_name": "Python 3 (ipykernel)",
   "language": "python",
   "name": "python3"
  },
  "language_info": {
   "codemirror_mode": {
    "name": "ipython",
    "version": 3
   },
   "file_extension": ".py",
   "mimetype": "text/x-python",
   "name": "python",
   "nbconvert_exporter": "python",
   "pygments_lexer": "ipython3",
   "version": "3.9.7"
  },
  "vscode": {
   "interpreter": {
    "hash": "bf60c026a159d2cd2f8b630630260cd5c3b50c436f2e5994b4c3e6a28c494357"
   }
  }
 },
 "nbformat": 4,
 "nbformat_minor": 5
}
