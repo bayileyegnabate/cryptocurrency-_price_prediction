{
 "cells": [
  {
   "cell_type": "markdown",
   "id": "6d9a5f75",
   "metadata": {},
   "source": [
    "### Read from DB ###"
   ]
  },
  {
   "cell_type": "code",
   "execution_count": 1,
   "id": "811fe4a3",
   "metadata": {},
   "outputs": [],
   "source": [
    "import sqlalchemy as sql\n",
    "import pandas as pd\n",
    "import warnings\n",
    "import numpy as np\n",
    "warnings.filterwarnings(\"ignore\")"
   ]
  },
  {
   "cell_type": "code",
   "execution_count": 2,
   "id": "c7b656e2",
   "metadata": {},
   "outputs": [],
   "source": [
    "engine=sql.create_engine('sqlite:///ethereum_price_db.db')"
   ]
  },
  {
   "cell_type": "code",
   "execution_count": 3,
   "id": "4398b437",
   "metadata": {},
   "outputs": [
    {
     "data": {
      "text/plain": [
       "['ethereum_price']"
      ]
     },
     "execution_count": 3,
     "metadata": {},
     "output_type": "execute_result"
    }
   ],
   "source": [
    "engine.table_names()"
   ]
  },
  {
   "cell_type": "code",
   "execution_count": 4,
   "id": "eedbc56b",
   "metadata": {},
   "outputs": [
    {
     "data": {
      "text/html": [
       "<div>\n",
       "<style scoped>\n",
       "    .dataframe tbody tr th:only-of-type {\n",
       "        vertical-align: middle;\n",
       "    }\n",
       "\n",
       "    .dataframe tbody tr th {\n",
       "        vertical-align: top;\n",
       "    }\n",
       "\n",
       "    .dataframe thead th {\n",
       "        text-align: right;\n",
       "    }\n",
       "</style>\n",
       "<table border=\"1\" class=\"dataframe\">\n",
       "  <thead>\n",
       "    <tr style=\"text-align: right;\">\n",
       "      <th></th>\n",
       "      <th>Close</th>\n",
       "      <th>Volume</th>\n",
       "      <th>Ticker</th>\n",
       "    </tr>\n",
       "    <tr>\n",
       "      <th>Date</th>\n",
       "      <th></th>\n",
       "      <th></th>\n",
       "      <th></th>\n",
       "    </tr>\n",
       "  </thead>\n",
       "  <tbody>\n",
       "    <tr>\n",
       "      <th>2017-11-09</th>\n",
       "      <td>320.884003</td>\n",
       "      <td>893249984</td>\n",
       "      <td>eth</td>\n",
       "    </tr>\n",
       "    <tr>\n",
       "      <th>2017-11-10</th>\n",
       "      <td>299.252991</td>\n",
       "      <td>885985984</td>\n",
       "      <td>eth</td>\n",
       "    </tr>\n",
       "    <tr>\n",
       "      <th>2017-11-11</th>\n",
       "      <td>314.681000</td>\n",
       "      <td>842300992</td>\n",
       "      <td>eth</td>\n",
       "    </tr>\n",
       "    <tr>\n",
       "      <th>2017-11-12</th>\n",
       "      <td>307.907990</td>\n",
       "      <td>1613479936</td>\n",
       "      <td>eth</td>\n",
       "    </tr>\n",
       "    <tr>\n",
       "      <th>2017-11-13</th>\n",
       "      <td>316.716003</td>\n",
       "      <td>1041889984</td>\n",
       "      <td>eth</td>\n",
       "    </tr>\n",
       "  </tbody>\n",
       "</table>\n",
       "</div>"
      ],
      "text/plain": [
       "                 Close      Volume Ticker\n",
       "Date                                     \n",
       "2017-11-09  320.884003   893249984    eth\n",
       "2017-11-10  299.252991   885985984    eth\n",
       "2017-11-11  314.681000   842300992    eth\n",
       "2017-11-12  307.907990  1613479936    eth\n",
       "2017-11-13  316.716003  1041889984    eth"
      ]
     },
     "execution_count": 4,
     "metadata": {},
     "output_type": "execute_result"
    }
   ],
   "source": [
    "df=pd.read_sql_table('ethereum_price', con=engine, index_col='Date', parse_dates=True)\n",
    "df=df.drop(columns='index')\n",
    "df.head()"
   ]
  },
  {
   "cell_type": "code",
   "execution_count": 5,
   "id": "25ac9e20",
   "metadata": {},
   "outputs": [
    {
     "data": {
      "text/plain": [
       "DatetimeIndex(['2017-11-09', '2017-11-10', '2017-11-11', '2017-11-12',\n",
       "               '2017-11-13', '2017-11-14', '2017-11-15', '2017-11-16',\n",
       "               '2017-11-17', '2017-11-18',\n",
       "               ...\n",
       "               '2022-07-30', '2022-07-31', '2022-08-01', '2022-08-02',\n",
       "               '2022-08-03', '2022-08-04', '2022-08-05', '2022-08-06',\n",
       "               '2022-08-07', '2022-08-08'],\n",
       "              dtype='datetime64[ns]', name='Date', length=1734, freq=None)"
      ]
     },
     "execution_count": 5,
     "metadata": {},
     "output_type": "execute_result"
    }
   ],
   "source": [
    "df.index"
   ]
  },
  {
   "cell_type": "code",
   "execution_count": 6,
   "id": "9f9a4a00",
   "metadata": {},
   "outputs": [
    {
     "data": {
      "text/plain": [
       "<AxesSubplot:xlabel='Date'>"
      ]
     },
     "execution_count": 6,
     "metadata": {},
     "output_type": "execute_result"
    },
    {
     "data": {
      "image/png": "[encoded data removed]",
      "text/plain": [
       "<Figure size 432x288 with 1 Axes>"
      ]
     },
     "metadata": {
      "needs_background": "light"
     },
     "output_type": "display_data"
    }
   ],
   "source": [
    "df['Close'].plot()"
   ]
  },
  {
   "cell_type": "markdown",
   "id": "b3e57742",
   "metadata": {},
   "source": [
    "### ML ###"
   ]
  },
  {
   "cell_type": "markdown",
   "id": "6de2430a",
   "metadata": {},
   "source": [
    "create a table like below: \n",
    "<img src='./images/sample_features.png' width=720>"
   ]
  },
  {
   "cell_type": "code",
   "execution_count": 7,
   "id": "1ccd0b5e",
   "metadata": {},
   "outputs": [
    {
     "data": {
      "text/html": [
       "<div>\n",
       "<style scoped>\n",
       "    .dataframe tbody tr th:only-of-type {\n",
       "        vertical-align: middle;\n",
       "    }\n",
       "\n",
       "    .dataframe tbody tr th {\n",
       "        vertical-align: top;\n",
       "    }\n",
       "\n",
       "    .dataframe thead th {\n",
       "        text-align: right;\n",
       "    }\n",
       "</style>\n",
       "<table border=\"1\" class=\"dataframe\">\n",
       "  <thead>\n",
       "    <tr style=\"text-align: right;\">\n",
       "      <th></th>\n",
       "      <th>Close</th>\n",
       "      <th>Close T-1</th>\n",
       "      <th>Close T-2</th>\n",
       "      <th>Close T-3</th>\n",
       "      <th>Close T-4</th>\n",
       "      <th>Close T-5</th>\n",
       "    </tr>\n",
       "    <tr>\n",
       "      <th>Date</th>\n",
       "      <th></th>\n",
       "      <th></th>\n",
       "      <th></th>\n",
       "      <th></th>\n",
       "      <th></th>\n",
       "      <th></th>\n",
       "    </tr>\n",
       "  </thead>\n",
       "  <tbody>\n",
       "    <tr>\n",
       "      <th>2017-11-14</th>\n",
       "      <td>337.631012</td>\n",
       "      <td>316.716003</td>\n",
       "      <td>307.907990</td>\n",
       "      <td>314.681000</td>\n",
       "      <td>299.252991</td>\n",
       "      <td>320.884003</td>\n",
       "    </tr>\n",
       "    <tr>\n",
       "      <th>2017-11-15</th>\n",
       "      <td>333.356995</td>\n",
       "      <td>337.631012</td>\n",
       "      <td>316.716003</td>\n",
       "      <td>307.907990</td>\n",
       "      <td>314.681000</td>\n",
       "      <td>299.252991</td>\n",
       "    </tr>\n",
       "    <tr>\n",
       "      <th>2017-11-16</th>\n",
       "      <td>330.924011</td>\n",
       "      <td>333.356995</td>\n",
       "      <td>337.631012</td>\n",
       "      <td>316.716003</td>\n",
       "      <td>307.907990</td>\n",
       "      <td>314.681000</td>\n",
       "    </tr>\n",
       "    <tr>\n",
       "      <th>2017-11-17</th>\n",
       "      <td>332.394012</td>\n",
       "      <td>330.924011</td>\n",
       "      <td>333.356995</td>\n",
       "      <td>337.631012</td>\n",
       "      <td>316.716003</td>\n",
       "      <td>307.907990</td>\n",
       "    </tr>\n",
       "    <tr>\n",
       "      <th>2017-11-18</th>\n",
       "      <td>347.612000</td>\n",
       "      <td>332.394012</td>\n",
       "      <td>330.924011</td>\n",
       "      <td>333.356995</td>\n",
       "      <td>337.631012</td>\n",
       "      <td>316.716003</td>\n",
       "    </tr>\n",
       "  </tbody>\n",
       "</table>\n",
       "</div>"
      ],
      "text/plain": [
       "                 Close   Close T-1   Close T-2   Close T-3   Close T-4  \\\n",
       "Date                                                                     \n",
       "2017-11-14  337.631012  316.716003  307.907990  314.681000  299.252991   \n",
       "2017-11-15  333.356995  337.631012  316.716003  307.907990  314.681000   \n",
       "2017-11-16  330.924011  333.356995  337.631012  316.716003  307.907990   \n",
       "2017-11-17  332.394012  330.924011  333.356995  337.631012  316.716003   \n",
       "2017-11-18  347.612000  332.394012  330.924011  333.356995  337.631012   \n",
       "\n",
       "             Close T-5  \n",
       "Date                    \n",
       "2017-11-14  320.884003  \n",
       "2017-11-15  299.252991  \n",
       "2017-11-16  314.681000  \n",
       "2017-11-17  307.907990  \n",
       "2017-11-18  316.716003  "
      ]
     },
     "execution_count": 7,
     "metadata": {},
     "output_type": "execute_result"
    }
   ],
   "source": [
    "features=df[['Close']]\n",
    "window_size=5\n",
    "for i in range(1, window_size+1): \n",
    "    features[f'Close T-{i}']=features['Close'].shift(i)\n",
    "\n",
    "features=features.dropna()\n",
    "features.head()"
   ]
  },
  {
   "cell_type": "code",
   "execution_count": 8,
   "id": "17dfbe98",
   "metadata": {},
   "outputs": [],
   "source": [
    "y=features[['Close']]\n",
    "X=features.drop(columns=['Close'])"
   ]
  },
  {
   "cell_type": "markdown",
   "id": "435ef5ce",
   "metadata": {},
   "source": [
    "Split into training and testing"
   ]
  },
  {
   "cell_type": "code",
   "execution_count": 9,
   "id": "f3b4e399",
   "metadata": {},
   "outputs": [],
   "source": [
    "# split at 2021 / 6\n",
    "X_train=X.loc[:'2021-12']\n",
    "y_train=y.loc[:'2021-12']\n",
    "X_test=X.loc['2022-01':]\n",
    "y_test=y.loc['2022-01':]"
   ]
  },
  {
   "cell_type": "code",
   "execution_count": 10,
   "id": "c26a635d",
   "metadata": {
    "scrolled": true
   },
   "outputs": [
    {
     "data": {
      "text/plain": [
       "(1509, 5)"
      ]
     },
     "metadata": {},
     "output_type": "display_data"
    },
    {
     "data": {
      "text/plain": [
       "(220, 5)"
      ]
     },
     "metadata": {},
     "output_type": "display_data"
    },
    {
     "data": {
      "text/plain": [
       "(1509, 1)"
      ]
     },
     "metadata": {},
     "output_type": "display_data"
    },
    {
     "data": {
      "text/plain": [
       "(220, 1)"
      ]
     },
     "metadata": {},
     "output_type": "display_data"
    }
   ],
   "source": [
    "display(X_train.shape)\n",
    "display(X_test.shape)\n",
    "display(y_train.shape)\n",
    "display(y_test.shape)"
   ]
  },
  {
   "cell_type": "markdown",
   "id": "086ea786",
   "metadata": {},
   "source": [
    "### Scale Data ###"
   ]
  },
  {
   "cell_type": "code",
   "execution_count": 11,
   "id": "ed2c9c7b",
   "metadata": {},
   "outputs": [],
   "source": [
    "from sklearn.preprocessing import MinMaxScaler\n",
    "X_scaler=MinMaxScaler()\n",
    "X_scaler.fit(X_train)\n",
    "X_train_scaled=X_scaler.transform(X_train)\n",
    "X_test_scaled=X_scaler.transform(X_test)"
   ]
  },
  {
   "cell_type": "code",
   "execution_count": 12,
   "id": "5ece8f2a",
   "metadata": {},
   "outputs": [],
   "source": [
    "y_scaler=MinMaxScaler()\n",
    "y_scaler.fit(y_train)\n",
    "y_train_scaled=y_scaler.transform(y_train)\n",
    "y_test_scaled=y_scaler.transform(y_test)"
   ]
  },
  {
   "cell_type": "markdown",
   "id": "4377a6dd",
   "metadata": {},
   "source": [
    "### Reshape ###"
   ]
  },
  {
   "cell_type": "code",
   "execution_count": 13,
   "id": "e10fa532",
   "metadata": {},
   "outputs": [],
   "source": [
    "X_train_scaled=X_train_scaled.reshape(X_train.shape[0], X_train.shape[1], 1)\n",
    "X_test_scaled=X_test_scaled.reshape(X_test.shape[0], X_test.shape[1], 1)"
   ]
  },
  {
   "cell_type": "markdown",
   "id": "17489e9a",
   "metadata": {},
   "source": [
    "### Build Model ###"
   ]
  },
  {
   "cell_type": "code",
   "execution_count": 14,
   "id": "e4978a2d",
   "metadata": {},
   "outputs": [],
   "source": [
    "import tensorflow as tf\n",
    "from tensorflow.keras.models import Sequential\n",
    "from tensorflow.keras.layers import LSTM, Dense, Dropout"
   ]
  },
  {
   "cell_type": "code",
   "execution_count": 15,
   "id": "e7cb577d",
   "metadata": {},
   "outputs": [
    {
     "name": "stderr",
     "output_type": "stream",
     "text": [
      "2022-08-09 20:18:03.740986: I tensorflow/core/platform/cpu_feature_guard.cc:193] This TensorFlow binary is optimized with oneAPI Deep Neural Network Library (oneDNN) to use the following CPU instructions in performance-critical operations:  AVX2 FMA\n",
      "To enable them in other operations, rebuild TensorFlow with the appropriate compiler flags.\n"
     ]
    }
   ],
   "source": [
    "model=Sequential()\n",
    "model.add(LSTM(units=30, return_sequences=True, input_shape=(window_size, 1)))\n",
    "model.add(Dropout(0.2))\n",
    "model.add(LSTM(units=30, return_sequences=True))\n",
    "model.add(Dropout(0.2))\n",
    "model.add(LSTM(units=30))\n",
    "model.add(Dense(units=1, activation='linear'))"
   ]
  },
  {
   "cell_type": "code",
   "execution_count": 16,
   "id": "dd5720e4",
   "metadata": {},
   "outputs": [
    {
     "name": "stdout",
     "output_type": "stream",
     "text": [
      "Model: \"sequential\"\n",
      "_________________________________________________________________\n",
      " Layer (type)                Output Shape              Param #   \n",
      "=================================================================\n",
      " lstm (LSTM)                 (None, 5, 30)             3840      \n",
      "                                                                 \n",
      " dropout (Dropout)           (None, 5, 30)             0         \n",
      "                                                                 \n",
      " lstm_1 (LSTM)               (None, 5, 30)             7320      \n",
      "                                                                 \n",
      " dropout_1 (Dropout)         (None, 5, 30)             0         \n",
      "                                                                 \n",
      " lstm_2 (LSTM)               (None, 30)                7320      \n",
      "                                                                 \n",
      " dense (Dense)               (None, 1)                 31        \n",
      "                                                                 \n",
      "=================================================================\n",
      "Total params: 18,511\n",
      "Trainable params: 18,511\n",
      "Non-trainable params: 0\n",
      "_________________________________________________________________\n"
     ]
    }
   ],
   "source": [
    "model.summary()"
   ]
  },
  {
   "cell_type": "code",
   "execution_count": 17,
   "id": "53994ba8",
   "metadata": {},
   "outputs": [],
   "source": [
    "model.compile(loss='mean_squared_error', optimizer='adam', metrics='mean_squared_error')"
   ]
  },
  {
   "cell_type": "code",
   "execution_count": 18,
   "id": "5c1407f7",
   "metadata": {
    "scrolled": true
   },
   "outputs": [
    {
     "name": "stdout",
     "output_type": "stream",
     "text": [
      "Epoch 1/50\n",
      "48/48 [==============================] - 5s 9ms/step - loss: 0.0319 - mean_squared_error: 0.0319\n",
      "Epoch 2/50\n",
      "48/48 [==============================] - 0s 9ms/step - loss: 0.0020 - mean_squared_error: 0.0020\n",
      "Epoch 3/50\n",
      "48/48 [==============================] - 0s 10ms/step - loss: 0.0012 - mean_squared_error: 0.0012\n",
      "Epoch 4/50\n",
      "48/48 [==============================] - 0s 9ms/step - loss: 9.3849e-04 - mean_squared_error: 9.3849e-04\n",
      "Epoch 5/50\n",
      "48/48 [==============================] - 0s 9ms/step - loss: 8.4797e-04 - mean_squared_error: 8.4797e-04\n",
      "Epoch 6/50\n",
      "48/48 [==============================] - 0s 10ms/step - loss: 9.3228e-04 - mean_squared_error: 9.3228e-04\n",
      "Epoch 7/50\n",
      "48/48 [==============================] - 0s 9ms/step - loss: 8.9876e-04 - mean_squared_error: 8.9876e-04\n",
      "Epoch 8/50\n",
      "48/48 [==============================] - 0s 9ms/step - loss: 8.3465e-04 - mean_squared_error: 8.3465e-04\n",
      "Epoch 9/50\n",
      "48/48 [==============================] - 0s 8ms/step - loss: 7.2634e-04 - mean_squared_error: 7.2634e-04\n",
      "Epoch 10/50\n",
      "48/48 [==============================] - 0s 8ms/step - loss: 7.8273e-04 - mean_squared_error: 7.8273e-04\n",
      "Epoch 11/50\n",
      "48/48 [==============================] - 0s 8ms/step - loss: 7.1373e-04 - mean_squared_error: 7.1373e-04\n",
      "Epoch 12/50\n",
      "48/48 [==============================] - 0s 9ms/step - loss: 7.1908e-04 - mean_squared_error: 7.1908e-04\n",
      "Epoch 13/50\n",
      "48/48 [==============================] - 0s 8ms/step - loss: 6.3388e-04 - mean_squared_error: 6.3388e-04\n",
      "Epoch 14/50\n",
      "48/48 [==============================] - 0s 8ms/step - loss: 6.4698e-04 - mean_squared_error: 6.4698e-04\n",
      "Epoch 15/50\n",
      "48/48 [==============================] - 0s 8ms/step - loss: 7.5631e-04 - mean_squared_error: 7.5631e-04\n",
      "Epoch 16/50\n",
      "48/48 [==============================] - 0s 8ms/step - loss: 6.4488e-04 - mean_squared_error: 6.4488e-04\n",
      "Epoch 17/50\n",
      "48/48 [==============================] - 0s 8ms/step - loss: 6.7887e-04 - mean_squared_error: 6.7887e-04\n",
      "Epoch 18/50\n",
      "48/48 [==============================] - 0s 8ms/step - loss: 6.5797e-04 - mean_squared_error: 6.5797e-04\n",
      "Epoch 19/50\n",
      "48/48 [==============================] - 0s 8ms/step - loss: 7.2103e-04 - mean_squared_error: 7.2103e-04\n",
      "Epoch 20/50\n",
      "48/48 [==============================] - 0s 9ms/step - loss: 6.3943e-04 - mean_squared_error: 6.3943e-04\n",
      "Epoch 21/50\n",
      "48/48 [==============================] - 0s 8ms/step - loss: 8.4432e-04 - mean_squared_error: 8.4432e-04\n",
      "Epoch 22/50\n",
      "48/48 [==============================] - 0s 8ms/step - loss: 7.0315e-04 - mean_squared_error: 7.0315e-04\n",
      "Epoch 23/50\n",
      "48/48 [==============================] - 0s 8ms/step - loss: 5.6701e-04 - mean_squared_error: 5.6701e-04\n",
      "Epoch 24/50\n",
      "48/48 [==============================] - 0s 8ms/step - loss: 6.5171e-04 - mean_squared_error: 6.5171e-04\n",
      "Epoch 25/50\n",
      "48/48 [==============================] - 0s 8ms/step - loss: 6.5622e-04 - mean_squared_error: 6.5622e-04\n",
      "Epoch 26/50\n",
      "48/48 [==============================] - 0s 8ms/step - loss: 5.8956e-04 - mean_squared_error: 5.8956e-04\n",
      "Epoch 27/50\n",
      "48/48 [==============================] - 0s 8ms/step - loss: 6.8083e-04 - mean_squared_error: 6.8083e-04\n",
      "Epoch 28/50\n",
      "48/48 [==============================] - 0s 8ms/step - loss: 6.2854e-04 - mean_squared_error: 6.2854e-04\n",
      "Epoch 29/50\n",
      "48/48 [==============================] - 0s 8ms/step - loss: 6.7934e-04 - mean_squared_error: 6.7934e-04\n",
      "Epoch 30/50\n",
      "48/48 [==============================] - 0s 8ms/step - loss: 7.0566e-04 - mean_squared_error: 7.0566e-04\n",
      "Epoch 31/50\n",
      "48/48 [==============================] - 0s 8ms/step - loss: 7.0897e-04 - mean_squared_error: 7.0897e-04\n",
      "Epoch 32/50\n",
      "48/48 [==============================] - 0s 8ms/step - loss: 5.9198e-04 - mean_squared_error: 5.9198e-04\n",
      "Epoch 33/50\n",
      "48/48 [==============================] - 0s 8ms/step - loss: 6.4391e-04 - mean_squared_error: 6.4391e-04\n",
      "Epoch 34/50\n",
      "48/48 [==============================] - 0s 9ms/step - loss: 6.7502e-04 - mean_squared_error: 6.7502e-04\n",
      "Epoch 35/50\n",
      "48/48 [==============================] - 0s 9ms/step - loss: 6.4999e-04 - mean_squared_error: 6.4999e-04\n",
      "Epoch 36/50\n",
      "48/48 [==============================] - 0s 8ms/step - loss: 5.9377e-04 - mean_squared_error: 5.9377e-04\n",
      "Epoch 37/50\n",
      "48/48 [==============================] - 0s 8ms/step - loss: 5.8543e-04 - mean_squared_error: 5.8543e-04\n",
      "Epoch 38/50\n",
      "48/48 [==============================] - 0s 8ms/step - loss: 6.1399e-04 - mean_squared_error: 6.1399e-04\n",
      "Epoch 39/50\n",
      "48/48 [==============================] - 0s 8ms/step - loss: 5.8569e-04 - mean_squared_error: 5.8569e-04\n",
      "Epoch 40/50\n",
      "48/48 [==============================] - 0s 8ms/step - loss: 6.5222e-04 - mean_squared_error: 6.5222e-04\n",
      "Epoch 41/50\n",
      "48/48 [==============================] - 0s 8ms/step - loss: 5.8000e-04 - mean_squared_error: 5.8000e-04\n",
      "Epoch 42/50\n",
      "48/48 [==============================] - 0s 8ms/step - loss: 5.7104e-04 - mean_squared_error: 5.7104e-04\n",
      "Epoch 43/50\n",
      "48/48 [==============================] - 0s 8ms/step - loss: 6.8677e-04 - mean_squared_error: 6.8677e-04\n",
      "Epoch 44/50\n",
      "48/48 [==============================] - 0s 8ms/step - loss: 6.9216e-04 - mean_squared_error: 6.9216e-04\n",
      "Epoch 45/50\n",
      "48/48 [==============================] - 0s 8ms/step - loss: 6.3704e-04 - mean_squared_error: 6.3704e-04\n",
      "Epoch 46/50\n",
      "48/48 [==============================] - 0s 8ms/step - loss: 5.6377e-04 - mean_squared_error: 5.6377e-04\n",
      "Epoch 47/50\n",
      "48/48 [==============================] - 0s 9ms/step - loss: 5.9840e-04 - mean_squared_error: 5.9840e-04\n",
      "Epoch 48/50\n",
      "48/48 [==============================] - 0s 9ms/step - loss: 5.2976e-04 - mean_squared_error: 5.2976e-04\n",
      "Epoch 49/50\n",
      "48/48 [==============================] - 0s 8ms/step - loss: 6.0624e-04 - mean_squared_error: 6.0624e-04\n",
      "Epoch 50/50\n",
      "48/48 [==============================] - 0s 8ms/step - loss: 6.4627e-04 - mean_squared_error: 6.4627e-04\n"
     ]
    },
    {
     "data": {
      "text/plain": [
       "<keras.callbacks.History at 0x7ff6eff81b50>"
      ]
     },
     "execution_count": 18,
     "metadata": {},
     "output_type": "execute_result"
    }
   ],
   "source": [
    "model.fit(X_train_scaled, y_train_scaled, epochs=50)"
   ]
  },
  {
   "cell_type": "code",
   "execution_count": 19,
   "id": "28857470",
   "metadata": {},
   "outputs": [
    {
     "name": "stdout",
     "output_type": "stream",
     "text": [
      "7/7 [==============================] - 1s 3ms/step\n"
     ]
    }
   ],
   "source": [
    "y_predicted=model.predict(X_test_scaled)"
   ]
  },
  {
   "cell_type": "markdown",
   "id": "034139f0",
   "metadata": {},
   "source": [
    "### Plot Prediction ###"
   ]
  },
  {
   "cell_type": "code",
   "execution_count": 20,
   "id": "fe4bd99f",
   "metadata": {},
   "outputs": [],
   "source": [
    "import matplotlib.pyplot as plt"
   ]
  },
  {
   "cell_type": "code",
   "execution_count": 21,
   "id": "1325ba20",
   "metadata": {
    "scrolled": true
   },
   "outputs": [
    {
     "data": {
      "text/plain": [
       "[<matplotlib.lines.Line2D at 0x7ff6f2cc7590>]"
      ]
     },
     "execution_count": 21,
     "metadata": {},
     "output_type": "execute_result"
    },
    {
     "data": {
      "image/png": "[encoded data removed]",
      "text/plain": [
       "<Figure size 432x288 with 1 Axes>"
      ]
     },
     "metadata": {
      "needs_background": "light"
     },
     "output_type": "display_data"
    }
   ],
   "source": [
    "price=np.concatenate([y_train_scaled.ravel(), y_test_scaled.ravel()])\n",
    "prediction=np.concatenate([y_train_scaled.ravel(), y_predicted.ravel()])\n",
    "fig=plt.figure()\n",
    "plt.plot(price)\n",
    "plt.plot(prediction)"
   ]
  },
  {
   "cell_type": "code",
   "execution_count": 22,
   "id": "7aaae0f6",
   "metadata": {},
   "outputs": [],
   "source": [
    "next_prediction_input=df.iloc[-5:]['Close'].values\n",
    "next_prediction_input_scaled=X_scaler.transform([next_prediction_input])"
   ]
  },
  {
   "cell_type": "code",
   "execution_count": 23,
   "id": "0e814ee8",
   "metadata": {},
   "outputs": [
    {
     "data": {
      "text/plain": [
       "array([[0.32232841, 0.3485667 , 0.33997988, 0.34160702, 0.35771718]])"
      ]
     },
     "execution_count": 23,
     "metadata": {},
     "output_type": "execute_result"
    }
   ],
   "source": [
    "next_prediction_input_scaled"
   ]
  },
  {
   "cell_type": "code",
   "execution_count": 24,
   "id": "2522e37d",
   "metadata": {},
   "outputs": [
    {
     "name": "stdout",
     "output_type": "stream",
     "text": [
      "1/1 [==============================] - 1s 947ms/step\n"
     ]
    },
    {
     "data": {
      "text/plain": [
       "array([[0.33670855]], dtype=float32)"
      ]
     },
     "execution_count": 24,
     "metadata": {},
     "output_type": "execute_result"
    }
   ],
   "source": [
    "next_prediction=model.predict([next_prediction_input_scaled])\n",
    "next_prediction"
   ]
  },
  {
   "cell_type": "code",
   "execution_count": 25,
   "id": "ca785ef3",
   "metadata": {},
   "outputs": [
    {
     "data": {
      "text/plain": [
       "array([[1676.192]], dtype=float32)"
      ]
     },
     "execution_count": 25,
     "metadata": {},
     "output_type": "execute_result"
    }
   ],
   "source": [
    "y_scaler.inverse_transform(next_prediction)"
   ]
  }
 ],
 "metadata": {
  "kernelspec": {
   "display_name": "Python 3 (ipykernel)",
   "language": "python",
   "name": "python3"
  },
  "language_info": {
   "codemirror_mode": {
    "name": "ipython",
    "version": 3
   },
   "file_extension": ".py",
   "mimetype": "text/x-python",
   "name": "python",
   "nbconvert_exporter": "python",
   "pygments_lexer": "ipython3",
   "version": "3.9.7"
  }
 },
 "nbformat": 4,
 "nbformat_minor": 5
}
