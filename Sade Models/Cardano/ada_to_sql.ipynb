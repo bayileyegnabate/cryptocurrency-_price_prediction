{
 "cells": [
  {
   "cell_type": "markdown",
   "id": "1efddf7d",
   "metadata": {},
   "source": [
    "Read from local"
   ]
  },
  {
   "cell_type": "code",
   "execution_count": 1,
   "id": "91420f90",
   "metadata": {},
   "outputs": [],
   "source": [
    "import sqlalchemy as sql\n",
    "import pandas as pd"
   ]
  },
  {
   "cell_type": "code",
   "execution_count": 2,
   "id": "79efc3b6",
   "metadata": {},
   "outputs": [
    {
     "name": "stderr",
     "output_type": "stream",
     "text": [
      "/Users/DottiP/opt/anaconda3/envs/PythonData/lib/python3.7/site-packages/ipykernel_launcher.py:2: SADeprecationWarning: The Engine.table_names() method is deprecated and will be removed in a future release.  Please refer to Inspector.get_table_names(). (deprecated since: 1.4)\n",
      "  \n"
     ]
    },
    {
     "data": {
      "text/plain": [
       "['ada_price']"
      ]
     },
     "execution_count": 2,
     "metadata": {},
     "output_type": "execute_result"
    }
   ],
   "source": [
    "sqlite_engine=sql.create_engine('sqlite:///ada_price_db.db')\n",
    "sqlite_engine.table_names()"
   ]
  },
  {
   "cell_type": "code",
   "execution_count": 3,
   "id": "121606c0",
   "metadata": {},
   "outputs": [],
   "source": [
    "df=pd.read_sql_table('ada_price', con=sqlite_engine)\n",
    "df=df.iloc[:, 1:]"
   ]
  },
  {
   "cell_type": "markdown",
   "id": "e002ad30",
   "metadata": {},
   "source": [
    "Transfer to AWS"
   ]
  },
  {
   "cell_type": "code",
   "execution_count": 4,
   "id": "ffe28c37",
   "metadata": {},
   "outputs": [],
   "source": [
    "import config\n"
   ]
  },
  {
   "cell_type": "code",
   "execution_count": 5,
   "id": "283d5f3a",
   "metadata": {},
   "outputs": [],
   "source": [
    "endpoint='crypto-predictor.cpqcgmq1nns2.us-east-1.rds.amazonaws.com'\n",
    "username='cryptomain'"
   ]
  },
  {
   "cell_type": "code",
   "execution_count": 6,
   "id": "02a4a876",
   "metadata": {},
   "outputs": [],
   "source": [
    "connection_url=f'postgresql://{username}:{config.aws_password}@{endpoint}:5432/crypto-predictor'"
   ]
  },
  {
   "cell_type": "code",
   "execution_count": 7,
   "id": "b54a05bb",
   "metadata": {},
   "outputs": [],
   "source": [
    "import psycopg2"
   ]
  },
  {
   "cell_type": "code",
   "execution_count": 8,
   "id": "fbd54c42",
   "metadata": {},
   "outputs": [],
   "source": [
    "aws_engine=sql.create_engine(connection_url)"
   ]
  },
  {
   "cell_type": "code",
   "execution_count": 9,
   "id": "b32510fc",
   "metadata": {},
   "outputs": [],
   "source": [
    "df.to_sql('ada', con=aws_engine, index=False, if_exists='replace')"
   ]
  },
  {
   "cell_type": "code",
   "execution_count": null,
   "id": "ad390411",
   "metadata": {},
   "outputs": [],
   "source": []
  }
 ],
 "metadata": {
  "kernelspec": {
   "display_name": "Python 3 (ipykernel)",
   "language": "python",
   "name": "python3"
  },
  "language_info": {
   "codemirror_mode": {
    "name": "ipython",
    "version": 3
   },
   "file_extension": ".py",
   "mimetype": "text/x-python",
   "name": "python",
   "nbconvert_exporter": "python",
   "pygments_lexer": "ipython3",
   "version": "3.7.11"
  }
 },
 "nbformat": 4,
 "nbformat_minor": 5
}
