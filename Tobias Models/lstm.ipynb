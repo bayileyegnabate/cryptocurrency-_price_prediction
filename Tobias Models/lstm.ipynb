{
 "cells": [
  {
   "cell_type": "markdown",
   "id": "6d9a5f75",
   "metadata": {},
   "source": [
    "### Read from DB ###"
   ]
  },
  {
   "cell_type": "code",
   "execution_count": 65,
   "id": "811fe4a3",
   "metadata": {},
   "outputs": [],
   "source": [
    "import sqlalchemy as sql\n",
    "import pandas as pd\n",
    "import warnings\n",
    "import numpy as np\n",
    "warnings.filterwarnings(\"ignore\")"
   ]
  },
  {
   "cell_type": "code",
   "execution_count": 2,
   "id": "c7b656e2",
   "metadata": {},
   "outputs": [],
   "source": [
    "engine=sql.create_engine('sqlite:///crypto_price_db.db')"
   ]
  },
  {
   "cell_type": "code",
   "execution_count": 5,
   "id": "4398b437",
   "metadata": {},
   "outputs": [
    {
     "data": {
      "text/plain": [
       "['cypto_price']"
      ]
     },
     "execution_count": 5,
     "metadata": {},
     "output_type": "execute_result"
    }
   ],
   "source": [
    "engine.table_names()"
   ]
  },
  {
   "cell_type": "code",
   "execution_count": 9,
   "id": "eedbc56b",
   "metadata": {},
   "outputs": [
    {
     "data": {
      "text/html": [
       "<div>\n",
       "<style scoped>\n",
       "    .dataframe tbody tr th:only-of-type {\n",
       "        vertical-align: middle;\n",
       "    }\n",
       "\n",
       "    .dataframe tbody tr th {\n",
       "        vertical-align: top;\n",
       "    }\n",
       "\n",
       "    .dataframe thead th {\n",
       "        text-align: right;\n",
       "    }\n",
       "</style>\n",
       "<table border=\"1\" class=\"dataframe\">\n",
       "  <thead>\n",
       "    <tr style=\"text-align: right;\">\n",
       "      <th></th>\n",
       "      <th>Close</th>\n",
       "      <th>Volume</th>\n",
       "      <th>Ticker</th>\n",
       "    </tr>\n",
       "    <tr>\n",
       "      <th>Date</th>\n",
       "      <th></th>\n",
       "      <th></th>\n",
       "      <th></th>\n",
       "    </tr>\n",
       "  </thead>\n",
       "  <tbody>\n",
       "    <tr>\n",
       "      <th>2014-09-17</th>\n",
       "      <td>457.334015</td>\n",
       "      <td>21056800</td>\n",
       "      <td>BTC</td>\n",
       "    </tr>\n",
       "    <tr>\n",
       "      <th>2014-09-18</th>\n",
       "      <td>424.440002</td>\n",
       "      <td>34483200</td>\n",
       "      <td>BTC</td>\n",
       "    </tr>\n",
       "    <tr>\n",
       "      <th>2014-09-19</th>\n",
       "      <td>394.795990</td>\n",
       "      <td>37919700</td>\n",
       "      <td>BTC</td>\n",
       "    </tr>\n",
       "    <tr>\n",
       "      <th>2014-09-20</th>\n",
       "      <td>408.903992</td>\n",
       "      <td>36863600</td>\n",
       "      <td>BTC</td>\n",
       "    </tr>\n",
       "    <tr>\n",
       "      <th>2014-09-21</th>\n",
       "      <td>398.821014</td>\n",
       "      <td>26580100</td>\n",
       "      <td>BTC</td>\n",
       "    </tr>\n",
       "  </tbody>\n",
       "</table>\n",
       "</div>"
      ],
      "text/plain": [
       "                 Close    Volume Ticker\n",
       "Date                                   \n",
       "2014-09-17  457.334015  21056800    BTC\n",
       "2014-09-18  424.440002  34483200    BTC\n",
       "2014-09-19  394.795990  37919700    BTC\n",
       "2014-09-20  408.903992  36863600    BTC\n",
       "2014-09-21  398.821014  26580100    BTC"
      ]
     },
     "execution_count": 9,
     "metadata": {},
     "output_type": "execute_result"
    }
   ],
   "source": [
    "df=pd.read_sql_table('cypto_price', con=engine, index_col='Date', parse_dates=True)\n",
    "df=df.drop(columns='index')\n",
    "df.head()"
   ]
  },
  {
   "cell_type": "code",
   "execution_count": 10,
   "id": "25ac9e20",
   "metadata": {},
   "outputs": [
    {
     "data": {
      "text/plain": [
       "DatetimeIndex(['2014-09-17', '2014-09-18', '2014-09-19', '2014-09-20',\n",
       "               '2014-09-21', '2014-09-22', '2014-09-23', '2014-09-24',\n",
       "               '2014-09-25', '2014-09-26',\n",
       "               ...\n",
       "               '2022-07-25', '2022-07-26', '2022-07-27', '2022-07-28',\n",
       "               '2022-07-29', '2022-07-30', '2022-07-31', '2022-08-01',\n",
       "               '2022-08-02', '2022-08-03'],\n",
       "              dtype='datetime64[ns]', name='Date', length=2878, freq=None)"
      ]
     },
     "execution_count": 10,
     "metadata": {},
     "output_type": "execute_result"
    }
   ],
   "source": [
    "df.index"
   ]
  },
  {
   "cell_type": "code",
   "execution_count": 11,
   "id": "9f9a4a00",
   "metadata": {},
   "outputs": [
    {
     "data": {
      "text/plain": [
       "<matplotlib.axes._subplots.AxesSubplot at 0x7fb2dc7440f0>"
      ]
     },
     "execution_count": 11,
     "metadata": {},
     "output_type": "execute_result"
    },
    {
     "data": {
      "image/png": "[encoded data removed]",
      "text/plain": [
       "<Figure size 432x288 with 1 Axes>"
      ]
     },
     "metadata": {
      "needs_background": "light"
     },
     "output_type": "display_data"
    }
   ],
   "source": [
    "df['Close'].plot()"
   ]
  },
  {
   "cell_type": "markdown",
   "id": "b3e57742",
   "metadata": {},
   "source": [
    "### ML ###"
   ]
  },
  {
   "cell_type": "markdown",
   "id": "6de2430a",
   "metadata": {},
   "source": [
    "create a table like below: \n",
    "<img src='./images/sample_features.png' width=720>"
   ]
  },
  {
   "cell_type": "code",
   "execution_count": 41,
   "id": "1ccd0b5e",
   "metadata": {},
   "outputs": [
    {
     "data": {
      "text/html": [
       "<div>\n",
       "<style scoped>\n",
       "    .dataframe tbody tr th:only-of-type {\n",
       "        vertical-align: middle;\n",
       "    }\n",
       "\n",
       "    .dataframe tbody tr th {\n",
       "        vertical-align: top;\n",
       "    }\n",
       "\n",
       "    .dataframe thead th {\n",
       "        text-align: right;\n",
       "    }\n",
       "</style>\n",
       "<table border=\"1\" class=\"dataframe\">\n",
       "  <thead>\n",
       "    <tr style=\"text-align: right;\">\n",
       "      <th></th>\n",
       "      <th>Close</th>\n",
       "      <th>Close T-1</th>\n",
       "      <th>Close T-2</th>\n",
       "      <th>Close T-3</th>\n",
       "      <th>Close T-4</th>\n",
       "      <th>Close T-5</th>\n",
       "    </tr>\n",
       "    <tr>\n",
       "      <th>Date</th>\n",
       "      <th></th>\n",
       "      <th></th>\n",
       "      <th></th>\n",
       "      <th></th>\n",
       "      <th></th>\n",
       "      <th></th>\n",
       "    </tr>\n",
       "  </thead>\n",
       "  <tbody>\n",
       "    <tr>\n",
       "      <th>2014-09-22</th>\n",
       "      <td>402.152008</td>\n",
       "      <td>398.821014</td>\n",
       "      <td>408.903992</td>\n",
       "      <td>394.795990</td>\n",
       "      <td>424.440002</td>\n",
       "      <td>457.334015</td>\n",
       "    </tr>\n",
       "    <tr>\n",
       "      <th>2014-09-23</th>\n",
       "      <td>435.790985</td>\n",
       "      <td>402.152008</td>\n",
       "      <td>398.821014</td>\n",
       "      <td>408.903992</td>\n",
       "      <td>394.795990</td>\n",
       "      <td>424.440002</td>\n",
       "    </tr>\n",
       "    <tr>\n",
       "      <th>2014-09-24</th>\n",
       "      <td>423.204987</td>\n",
       "      <td>435.790985</td>\n",
       "      <td>402.152008</td>\n",
       "      <td>398.821014</td>\n",
       "      <td>408.903992</td>\n",
       "      <td>394.795990</td>\n",
       "    </tr>\n",
       "    <tr>\n",
       "      <th>2014-09-25</th>\n",
       "      <td>411.574005</td>\n",
       "      <td>423.204987</td>\n",
       "      <td>435.790985</td>\n",
       "      <td>402.152008</td>\n",
       "      <td>398.821014</td>\n",
       "      <td>408.903992</td>\n",
       "    </tr>\n",
       "    <tr>\n",
       "      <th>2014-09-26</th>\n",
       "      <td>404.424988</td>\n",
       "      <td>411.574005</td>\n",
       "      <td>423.204987</td>\n",
       "      <td>435.790985</td>\n",
       "      <td>402.152008</td>\n",
       "      <td>398.821014</td>\n",
       "    </tr>\n",
       "  </tbody>\n",
       "</table>\n",
       "</div>"
      ],
      "text/plain": [
       "                 Close   Close T-1   Close T-2   Close T-3   Close T-4  \\\n",
       "Date                                                                     \n",
       "2014-09-22  402.152008  398.821014  408.903992  394.795990  424.440002   \n",
       "2014-09-23  435.790985  402.152008  398.821014  408.903992  394.795990   \n",
       "2014-09-24  423.204987  435.790985  402.152008  398.821014  408.903992   \n",
       "2014-09-25  411.574005  423.204987  435.790985  402.152008  398.821014   \n",
       "2014-09-26  404.424988  411.574005  423.204987  435.790985  402.152008   \n",
       "\n",
       "             Close T-5  \n",
       "Date                    \n",
       "2014-09-22  457.334015  \n",
       "2014-09-23  424.440002  \n",
       "2014-09-24  394.795990  \n",
       "2014-09-25  408.903992  \n",
       "2014-09-26  398.821014  "
      ]
     },
     "execution_count": 41,
     "metadata": {},
     "output_type": "execute_result"
    }
   ],
   "source": [
    "features=df[['Close']]\n",
    "window_size=5\n",
    "for i in range(1, window_size+1): \n",
    "    features[f'Close T-{i}']=features['Close'].shift(i)\n",
    "\n",
    "features=features.dropna()\n",
    "features.head()"
   ]
  },
  {
   "cell_type": "code",
   "execution_count": 54,
   "id": "17dfbe98",
   "metadata": {},
   "outputs": [],
   "source": [
    "y=features[['Close']]\n",
    "X=features.drop(columns=['Close'])"
   ]
  },
  {
   "cell_type": "markdown",
   "id": "435ef5ce",
   "metadata": {},
   "source": [
    "Split into training and testing"
   ]
  },
  {
   "cell_type": "code",
   "execution_count": 55,
   "id": "f3b4e399",
   "metadata": {},
   "outputs": [],
   "source": [
    "# split at 2021 / 6\n",
    "X_train=X.loc[:'2021-06']\n",
    "y_train=y.loc[:'2021-06']\n",
    "X_test=X.loc['2021-07':]\n",
    "y_test=y.loc['2021-07':]"
   ]
  },
  {
   "cell_type": "code",
   "execution_count": 56,
   "id": "c26a635d",
   "metadata": {
    "scrolled": true
   },
   "outputs": [
    {
     "data": {
      "text/plain": [
       "(2474, 5)"
      ]
     },
     "metadata": {},
     "output_type": "display_data"
    },
    {
     "data": {
      "text/plain": [
       "(399, 5)"
      ]
     },
     "metadata": {},
     "output_type": "display_data"
    },
    {
     "data": {
      "text/plain": [
       "(2474, 1)"
      ]
     },
     "metadata": {},
     "output_type": "display_data"
    },
    {
     "data": {
      "text/plain": [
       "(399, 1)"
      ]
     },
     "metadata": {},
     "output_type": "display_data"
    }
   ],
   "source": [
    "display(X_train.shape)\n",
    "display(X_test.shape)\n",
    "display(y_train.shape)\n",
    "display(y_test.shape)"
   ]
  },
  {
   "cell_type": "markdown",
   "id": "086ea786",
   "metadata": {},
   "source": [
    "### Scale Data ###"
   ]
  },
  {
   "cell_type": "code",
   "execution_count": 57,
   "id": "ed2c9c7b",
   "metadata": {},
   "outputs": [],
   "source": [
    "from sklearn.preprocessing import MinMaxScaler\n",
    "X_scaler=MinMaxScaler()\n",
    "X_scaler.fit(X_train)\n",
    "X_train_scaled=X_scaler.transform(X_train)\n",
    "X_test_scaled=X_scaler.transform(X_test)"
   ]
  },
  {
   "cell_type": "code",
   "execution_count": 58,
   "id": "5ece8f2a",
   "metadata": {},
   "outputs": [],
   "source": [
    "y_scaler=MinMaxScaler()\n",
    "y_scaler.fit(y_train)\n",
    "y_train_scaled=y_scaler.transform(y_train)\n",
    "y_test_scaled=y_scaler.transform(y_test)"
   ]
  },
  {
   "cell_type": "markdown",
   "id": "4377a6dd",
   "metadata": {},
   "source": [
    "### Reshape ###"
   ]
  },
  {
   "cell_type": "code",
   "execution_count": 59,
   "id": "e10fa532",
   "metadata": {},
   "outputs": [],
   "source": [
    "X_train_scaled=X_train_scaled.reshape(X_train.shape[0], X_train.shape[1], 1)\n",
    "X_test_scaled=X_test_scaled.reshape(X_test.shape[0], X_test.shape[1], 1)"
   ]
  },
  {
   "cell_type": "markdown",
   "id": "17489e9a",
   "metadata": {},
   "source": [
    "### Build Model ###"
   ]
  },
  {
   "cell_type": "code",
   "execution_count": 88,
   "id": "e4978a2d",
   "metadata": {},
   "outputs": [],
   "source": [
    "import tensorflow as tf\n",
    "from tensorflow.keras.models import Sequential\n",
    "from tensorflow.keras.layers import LSTM, Dense, Dropout"
   ]
  },
  {
   "cell_type": "code",
   "execution_count": 92,
   "id": "e7cb577d",
   "metadata": {},
   "outputs": [],
   "source": [
    "model=Sequential()\n",
    "model.add(LSTM(units=30, return_sequences=True, input_shape=(window_size, 1)))\n",
    "model.add(Dropout(0.2))\n",
    "model.add(LSTM(units=30, return_sequences=True))\n",
    "model.add(Dropout(0.2))\n",
    "model.add(LSTM(units=30))\n",
    "model.add(Dense(units=1, activation='linear'))"
   ]
  },
  {
   "cell_type": "code",
   "execution_count": 93,
   "id": "dd5720e4",
   "metadata": {},
   "outputs": [
    {
     "name": "stdout",
     "output_type": "stream",
     "text": [
      "Model: \"sequential_5\"\n",
      "_________________________________________________________________\n",
      " Layer (type)                Output Shape              Param #   \n",
      "=================================================================\n",
      " lstm_15 (LSTM)              (None, 5, 30)             3840      \n",
      "                                                                 \n",
      " dropout_10 (Dropout)        (None, 5, 30)             0         \n",
      "                                                                 \n",
      " lstm_16 (LSTM)              (None, 5, 30)             7320      \n",
      "                                                                 \n",
      " dropout_11 (Dropout)        (None, 5, 30)             0         \n",
      "                                                                 \n",
      " lstm_17 (LSTM)              (None, 30)                7320      \n",
      "                                                                 \n",
      " dense_5 (Dense)             (None, 1)                 31        \n",
      "                                                                 \n",
      "=================================================================\n",
      "Total params: 18,511\n",
      "Trainable params: 18,511\n",
      "Non-trainable params: 0\n",
      "_________________________________________________________________\n"
     ]
    }
   ],
   "source": [
    "model.summary()"
   ]
  },
  {
   "cell_type": "code",
   "execution_count": 94,
   "id": "53994ba8",
   "metadata": {},
   "outputs": [],
   "source": [
    "model.compile(loss='mean_squared_error', optimizer='adam', metrics='mean_squared_error')"
   ]
  },
  {
   "cell_type": "code",
   "execution_count": 95,
   "id": "5c1407f7",
   "metadata": {
    "scrolled": true
   },
   "outputs": [
    {
     "name": "stdout",
     "output_type": "stream",
     "text": [
      "Epoch 1/50\n",
      "78/78 [==============================] - 8s 14ms/step - loss: 0.0147 - mean_squared_error: 0.0147\n",
      "Epoch 2/50\n",
      "78/78 [==============================] - 1s 14ms/step - loss: 5.1028e-04 - mean_squared_error: 5.1028e-04\n",
      "Epoch 3/50\n",
      "78/78 [==============================] - 1s 15ms/step - loss: 5.0047e-04 - mean_squared_error: 5.0047e-04\n",
      "Epoch 4/50\n",
      "78/78 [==============================] - 1s 16ms/step - loss: 4.8023e-04 - mean_squared_error: 4.8023e-04\n",
      "Epoch 5/50\n",
      "78/78 [==============================] - 1s 16ms/step - loss: 4.2268e-04 - mean_squared_error: 4.2268e-04\n",
      "Epoch 6/50\n",
      "78/78 [==============================] - 1s 15ms/step - loss: 3.8988e-04 - mean_squared_error: 3.8988e-04\n",
      "Epoch 7/50\n",
      "78/78 [==============================] - 1s 14ms/step - loss: 4.6526e-04 - mean_squared_error: 4.6526e-04\n",
      "Epoch 8/50\n",
      "78/78 [==============================] - 1s 15ms/step - loss: 3.6737e-04 - mean_squared_error: 3.6737e-04\n",
      "Epoch 9/50\n",
      "78/78 [==============================] - 1s 15ms/step - loss: 3.8223e-04 - mean_squared_error: 3.8223e-04\n",
      "Epoch 10/50\n",
      "78/78 [==============================] - 1s 16ms/step - loss: 3.8045e-04 - mean_squared_error: 3.8045e-04\n",
      "Epoch 11/50\n",
      "78/78 [==============================] - 1s 17ms/step - loss: 3.4421e-04 - mean_squared_error: 3.4421e-04\n",
      "Epoch 12/50\n",
      "78/78 [==============================] - 1s 16ms/step - loss: 3.8442e-04 - mean_squared_error: 3.8442e-04\n",
      "Epoch 13/50\n",
      "78/78 [==============================] - 1s 16ms/step - loss: 3.8667e-04 - mean_squared_error: 3.8667e-04\n",
      "Epoch 14/50\n",
      "78/78 [==============================] - 1s 16ms/step - loss: 3.7527e-04 - mean_squared_error: 3.7527e-04\n",
      "Epoch 15/50\n",
      "78/78 [==============================] - 1s 16ms/step - loss: 3.6083e-04 - mean_squared_error: 3.6083e-04\n",
      "Epoch 16/50\n",
      "78/78 [==============================] - 1s 19ms/step - loss: 3.6505e-04 - mean_squared_error: 3.6505e-04\n",
      "Epoch 17/50\n",
      "78/78 [==============================] - 1s 16ms/step - loss: 3.8304e-04 - mean_squared_error: 3.8304e-04\n",
      "Epoch 18/50\n",
      "78/78 [==============================] - 1s 15ms/step - loss: 3.1021e-04 - mean_squared_error: 3.1021e-04\n",
      "Epoch 19/50\n",
      "78/78 [==============================] - 1s 16ms/step - loss: 3.1963e-04 - mean_squared_error: 3.1963e-04\n",
      "Epoch 20/50\n",
      "78/78 [==============================] - 1s 17ms/step - loss: 2.9312e-04 - mean_squared_error: 2.9312e-04\n",
      "Epoch 21/50\n",
      "78/78 [==============================] - 1s 17ms/step - loss: 3.1672e-04 - mean_squared_error: 3.1672e-04\n",
      "Epoch 22/50\n",
      "78/78 [==============================] - 1s 16ms/step - loss: 3.2756e-04 - mean_squared_error: 3.2756e-04\n",
      "Epoch 23/50\n",
      "78/78 [==============================] - 1s 15ms/step - loss: 3.1854e-04 - mean_squared_error: 3.1854e-04\n",
      "Epoch 24/50\n",
      "78/78 [==============================] - 1s 16ms/step - loss: 3.0044e-04 - mean_squared_error: 3.0044e-04\n",
      "Epoch 25/50\n",
      "78/78 [==============================] - 1s 16ms/step - loss: 4.1579e-04 - mean_squared_error: 4.1579e-04\n",
      "Epoch 26/50\n",
      "78/78 [==============================] - 1s 15ms/step - loss: 2.9023e-04 - mean_squared_error: 2.9023e-04\n",
      "Epoch 27/50\n",
      "78/78 [==============================] - 1s 14ms/step - loss: 2.9030e-04 - mean_squared_error: 2.9030e-04\n",
      "Epoch 28/50\n",
      "78/78 [==============================] - 1s 14ms/step - loss: 3.2841e-04 - mean_squared_error: 3.2841e-04\n",
      "Epoch 29/50\n",
      "78/78 [==============================] - 1s 15ms/step - loss: 2.8638e-04 - mean_squared_error: 2.8638e-04\n",
      "Epoch 30/50\n",
      "78/78 [==============================] - 1s 15ms/step - loss: 2.9183e-04 - mean_squared_error: 2.9183e-04\n",
      "Epoch 31/50\n",
      "78/78 [==============================] - 1s 17ms/step - loss: 3.2731e-04 - mean_squared_error: 3.2731e-04\n",
      "Epoch 32/50\n",
      "78/78 [==============================] - 1s 14ms/step - loss: 3.1515e-04 - mean_squared_error: 3.1515e-04\n",
      "Epoch 33/50\n",
      "78/78 [==============================] - 1s 15ms/step - loss: 3.2015e-04 - mean_squared_error: 3.2015e-04\n",
      "Epoch 34/50\n",
      "78/78 [==============================] - 1s 14ms/step - loss: 3.0342e-04 - mean_squared_error: 3.0342e-04\n",
      "Epoch 35/50\n",
      "78/78 [==============================] - 1s 14ms/step - loss: 2.6931e-04 - mean_squared_error: 2.6931e-04\n",
      "Epoch 36/50\n",
      "78/78 [==============================] - 1s 14ms/step - loss: 3.7407e-04 - mean_squared_error: 3.7407e-04\n",
      "Epoch 37/50\n",
      "78/78 [==============================] - 2s 20ms/step - loss: 2.6657e-04 - mean_squared_error: 2.6657e-04\n",
      "Epoch 38/50\n",
      "78/78 [==============================] - 1s 14ms/step - loss: 2.9788e-04 - mean_squared_error: 2.9788e-04\n",
      "Epoch 39/50\n",
      "78/78 [==============================] - 1s 15ms/step - loss: 3.4541e-04 - mean_squared_error: 3.4541e-04\n",
      "Epoch 40/50\n",
      "78/78 [==============================] - 1s 15ms/step - loss: 2.9576e-04 - mean_squared_error: 2.9576e-04\n",
      "Epoch 41/50\n",
      "78/78 [==============================] - 1s 15ms/step - loss: 2.8977e-04 - mean_squared_error: 2.8977e-04\n",
      "Epoch 42/50\n",
      "78/78 [==============================] - 1s 14ms/step - loss: 3.1328e-04 - mean_squared_error: 3.1328e-04\n",
      "Epoch 43/50\n",
      "78/78 [==============================] - 1s 16ms/step - loss: 3.2279e-04 - mean_squared_error: 3.2279e-04\n",
      "Epoch 44/50\n",
      "78/78 [==============================] - 1s 18ms/step - loss: 2.8672e-04 - mean_squared_error: 2.8672e-04\n",
      "Epoch 45/50\n",
      "78/78 [==============================] - 1s 17ms/step - loss: 2.8044e-04 - mean_squared_error: 2.8044e-04\n",
      "Epoch 46/50\n",
      "78/78 [==============================] - 1s 16ms/step - loss: 2.7356e-04 - mean_squared_error: 2.7356e-04\n",
      "Epoch 47/50\n",
      "78/78 [==============================] - 1s 19ms/step - loss: 2.8175e-04 - mean_squared_error: 2.8175e-04\n",
      "Epoch 48/50\n",
      "78/78 [==============================] - 2s 20ms/step - loss: 3.4927e-04 - mean_squared_error: 3.4927e-04\n",
      "Epoch 49/50\n",
      "78/78 [==============================] - 1s 15ms/step - loss: 3.0403e-04 - mean_squared_error: 3.0403e-04\n",
      "Epoch 50/50\n",
      "78/78 [==============================] - 1s 15ms/step - loss: 3.0576e-04 - mean_squared_error: 3.0576e-04\n"
     ]
    },
    {
     "data": {
      "text/plain": [
       "<keras.callbacks.History at 0x7fb2d3e62c50>"
      ]
     },
     "execution_count": 95,
     "metadata": {},
     "output_type": "execute_result"
    }
   ],
   "source": [
    "model.fit(X_train_scaled, y_train_scaled, epochs=50)"
   ]
  },
  {
   "cell_type": "code",
   "execution_count": 98,
   "id": "28857470",
   "metadata": {},
   "outputs": [
    {
     "name": "stdout",
     "output_type": "stream",
     "text": [
      "13/13 [==============================] - 0s 6ms/step\n"
     ]
    }
   ],
   "source": [
    "y_predicted=model.predict(X_test_scaled)"
   ]
  },
  {
   "cell_type": "markdown",
   "id": "034139f0",
   "metadata": {},
   "source": [
    "### Plot Prediction ###"
   ]
  },
  {
   "cell_type": "code",
   "execution_count": 99,
   "id": "fe4bd99f",
   "metadata": {},
   "outputs": [],
   "source": [
    "import matplotlib.pyplot as plt"
   ]
  },
  {
   "cell_type": "code",
   "execution_count": 100,
   "id": "1325ba20",
   "metadata": {
    "scrolled": true
   },
   "outputs": [
    {
     "data": {
      "text/plain": [
       "[<matplotlib.lines.Line2D at 0x7fb2baa96cc0>]"
      ]
     },
     "execution_count": 100,
     "metadata": {},
     "output_type": "execute_result"
    },
    {
     "data": {
      "image/png": "[encoded data removed]",
      "text/plain": [
       "<Figure size 432x288 with 1 Axes>"
      ]
     },
     "metadata": {
      "needs_background": "light"
     },
     "output_type": "display_data"
    }
   ],
   "source": [
    "price=np.concatenate([y_train_scaled.ravel(), y_test_scaled.ravel()])\n",
    "prediction=np.concatenate([y_train_scaled.ravel(), y_predicted.ravel()])\n",
    "fig=plt.figure()\n",
    "plt.plot(price)\n",
    "plt.plot(prediction)"
   ]
  },
  {
   "cell_type": "code",
   "execution_count": 109,
   "id": "7aaae0f6",
   "metadata": {},
   "outputs": [],
   "source": [
    "next_prediction_input=df.iloc[-5:]['Close'].values\n",
    "next_prediction_input_scaled=X_scaler.transform([next_prediction_input])"
   ]
  },
  {
   "cell_type": "code",
   "execution_count": 111,
   "id": "0e814ee8",
   "metadata": {},
   "outputs": [
    {
     "data": {
      "text/plain": [
       "array([[0.37075362, 0.36571124, 0.36535281, 0.36004559, 0.35796728]])"
      ]
     },
     "execution_count": 111,
     "metadata": {},
     "output_type": "execute_result"
    }
   ],
   "source": [
    "next_prediction_input_scaled"
   ]
  },
  {
   "cell_type": "code",
   "execution_count": 112,
   "id": "2522e37d",
   "metadata": {},
   "outputs": [
    {
     "name": "stdout",
     "output_type": "stream",
     "text": [
      "1/1 [==============================] - 2s 2s/step\n"
     ]
    },
    {
     "data": {
      "text/plain": [
       "array([[0.39324838]], dtype=float32)"
      ]
     },
     "execution_count": 112,
     "metadata": {},
     "output_type": "execute_result"
    }
   ],
   "source": [
    "next_prediction=model.predict([next_prediction_input_scaled])\n",
    "next_prediction"
   ]
  },
  {
   "cell_type": "code",
   "execution_count": 113,
   "id": "ca785ef3",
   "metadata": {},
   "outputs": [
    {
     "data": {
      "text/plain": [
       "array([[25080.695]], dtype=float32)"
      ]
     },
     "execution_count": 113,
     "metadata": {},
     "output_type": "execute_result"
    }
   ],
   "source": [
    "y_scaler.inverse_transform(next_prediction)"
   ]
  }
 ],
 "metadata": {
  "kernelspec": {
   "display_name": "Python 3 (ipykernel)",
   "language": "python",
   "name": "python3"
  },
  "language_info": {
   "codemirror_mode": {
    "name": "ipython",
    "version": 3
   },
   "file_extension": ".py",
   "mimetype": "text/x-python",
   "name": "python",
   "nbconvert_exporter": "python",
   "pygments_lexer": "ipython3",
   "version": "3.7.11"
  }
 },
 "nbformat": 4,
 "nbformat_minor": 5
}
