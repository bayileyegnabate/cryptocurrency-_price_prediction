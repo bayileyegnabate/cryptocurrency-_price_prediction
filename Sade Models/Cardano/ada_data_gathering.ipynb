{
 "cells": [
  {
   "cell_type": "code",
   "execution_count": 8,
   "id": "ee0eee1c",
   "metadata": {
    "scrolled": true
   },
   "outputs": [
    {
     "name": "stdout",
     "output_type": "stream",
     "text": [
      "Requirement already satisfied: yfinance in /Users/kevinlee/anaconda3/lib/python3.7/site-packages (0.1.55)\n",
      "Collecting yfinance\n",
      "  Downloading yfinance-0.1.74-py2.py3-none-any.whl (27 kB)\n",
      "Requirement already satisfied: lxml>=4.5.1 in /Users/kevinlee/anaconda3/lib/python3.7/site-packages (from yfinance) (4.6.3)\n",
      "Requirement already satisfied: requests>=2.26 in /Users/kevinlee/anaconda3/lib/python3.7/site-packages (from yfinance) (2.26.0)\n",
      "Requirement already satisfied: numpy>=1.15 in /Users/kevinlee/anaconda3/lib/python3.7/site-packages (from yfinance) (1.21.3)\n",
      "Requirement already satisfied: multitasking>=0.0.7 in /Users/kevinlee/anaconda3/lib/python3.7/site-packages (from yfinance) (0.0.9)\n",
      "Requirement already satisfied: pandas>=0.24.0 in /Users/kevinlee/anaconda3/lib/python3.7/site-packages (from yfinance) (1.3.4)\n",
      "Requirement already satisfied: python-dateutil>=2.7.3 in /Users/kevinlee/anaconda3/lib/python3.7/site-packages (from pandas>=0.24.0->yfinance) (2.8.2)\n",
      "Requirement already satisfied: pytz>=2017.3 in /Users/kevinlee/anaconda3/lib/python3.7/site-packages (from pandas>=0.24.0->yfinance) (2021.3)\n",
      "Requirement already satisfied: six>=1.5 in /Users/kevinlee/anaconda3/lib/python3.7/site-packages (from python-dateutil>=2.7.3->pandas>=0.24.0->yfinance) (1.16.0)\n",
      "Requirement already satisfied: certifi>=2017.4.17 in /Users/kevinlee/anaconda3/lib/python3.7/site-packages (from requests>=2.26->yfinance) (2021.10.8)\n",
      "Requirement already satisfied: charset-normalizer~=2.0.0 in /Users/kevinlee/anaconda3/lib/python3.7/site-packages (from requests>=2.26->yfinance) (2.0.7)\n",
      "Requirement already satisfied: idna<4,>=2.5 in /Users/kevinlee/anaconda3/lib/python3.7/site-packages (from requests>=2.26->yfinance) (3.3)\n",
      "Requirement already satisfied: urllib3<1.27,>=1.21.1 in /Users/kevinlee/anaconda3/lib/python3.7/site-packages (from requests>=2.26->yfinance) (1.26.7)\n",
      "Installing collected packages: yfinance\n",
      "  Attempting uninstall: yfinance\n",
      "    Found existing installation: yfinance 0.1.55\n",
      "    Uninstalling yfinance-0.1.55:\n",
      "      Successfully uninstalled yfinance-0.1.55\n",
      "Successfully installed yfinance-0.1.74\n"
     ]
    }
   ],
   "source": [
    "# !pip install -U yfinance"
   ]
  },
  {
   "cell_type": "code",
   "execution_count": 2,
   "id": "12ce273c",
   "metadata": {},
   "outputs": [
    {
     "name": "stdout",
     "output_type": "stream",
     "text": [
      "Name: yfinance\r\n",
      "Version: 0.1.74\r\n",
      "Summary: Download market data from Yahoo! Finance API\r\n",
      "Home-page: https://github.com/ranaroussi/yfinance\r\n",
      "Author: Ran Aroussi\r\n",
      "Author-email: ran@aroussi.com\r\n",
      "License: Apache\r\n",
      "Location: /Users/DottiP/opt/anaconda3/envs/PythonData/lib/python3.7/site-packages\r\n",
      "Requires: pandas, requests, lxml, multitasking, numpy\r\n",
      "Required-by: \r\n"
     ]
    }
   ],
   "source": [
    "!pip show yfinance"
   ]
  },
  {
   "cell_type": "markdown",
   "id": "6762da49",
   "metadata": {},
   "source": [
    "### Import Dependencies ###"
   ]
  },
  {
   "cell_type": "code",
   "execution_count": 3,
   "id": "4ecf875a",
   "metadata": {
    "scrolled": true
   },
   "outputs": [],
   "source": [
    "import yfinance as yf"
   ]
  },
  {
   "cell_type": "markdown",
   "id": "eb025643",
   "metadata": {},
   "source": [
    "### Getting Data ###"
   ]
  },
  {
   "cell_type": "code",
   "execution_count": 4,
   "id": "58a22f0e",
   "metadata": {},
   "outputs": [],
   "source": [
    "ada = yf.Ticker(\"ADA-USD\")\n",
    "\n",
    "# get stock info\n",
    "ada.info\n",
    "\n",
    "# get historical market data\n",
    "hist = ada.history(period=\"max\")"
   ]
  },
  {
   "cell_type": "code",
   "execution_count": 5,
   "id": "4ca4162f",
   "metadata": {},
   "outputs": [
    {
     "data": {
      "text/html": [
       "<div>\n",
       "<style scoped>\n",
       "    .dataframe tbody tr th:only-of-type {\n",
       "        vertical-align: middle;\n",
       "    }\n",
       "\n",
       "    .dataframe tbody tr th {\n",
       "        vertical-align: top;\n",
       "    }\n",
       "\n",
       "    .dataframe thead th {\n",
       "        text-align: right;\n",
       "    }\n",
       "</style>\n",
       "<table border=\"1\" class=\"dataframe\">\n",
       "  <thead>\n",
       "    <tr style=\"text-align: right;\">\n",
       "      <th></th>\n",
       "      <th>Open</th>\n",
       "      <th>High</th>\n",
       "      <th>Low</th>\n",
       "      <th>Close</th>\n",
       "      <th>Volume</th>\n",
       "      <th>Dividends</th>\n",
       "      <th>Stock Splits</th>\n",
       "    </tr>\n",
       "    <tr>\n",
       "      <th>Date</th>\n",
       "      <th></th>\n",
       "      <th></th>\n",
       "      <th></th>\n",
       "      <th></th>\n",
       "      <th></th>\n",
       "      <th></th>\n",
       "      <th></th>\n",
       "    </tr>\n",
       "  </thead>\n",
       "  <tbody>\n",
       "    <tr>\n",
       "      <th>2017-11-09</th>\n",
       "      <td>0.025160</td>\n",
       "      <td>0.035060</td>\n",
       "      <td>0.025006</td>\n",
       "      <td>0.032053</td>\n",
       "      <td>18716200</td>\n",
       "      <td>0</td>\n",
       "      <td>0</td>\n",
       "    </tr>\n",
       "    <tr>\n",
       "      <th>2017-11-10</th>\n",
       "      <td>0.032219</td>\n",
       "      <td>0.033348</td>\n",
       "      <td>0.026451</td>\n",
       "      <td>0.027119</td>\n",
       "      <td>6766780</td>\n",
       "      <td>0</td>\n",
       "      <td>0</td>\n",
       "    </tr>\n",
       "    <tr>\n",
       "      <th>2017-11-11</th>\n",
       "      <td>0.026891</td>\n",
       "      <td>0.029659</td>\n",
       "      <td>0.025684</td>\n",
       "      <td>0.027437</td>\n",
       "      <td>5532220</td>\n",
       "      <td>0</td>\n",
       "      <td>0</td>\n",
       "    </tr>\n",
       "    <tr>\n",
       "      <th>2017-11-12</th>\n",
       "      <td>0.027480</td>\n",
       "      <td>0.027952</td>\n",
       "      <td>0.022591</td>\n",
       "      <td>0.023977</td>\n",
       "      <td>7280250</td>\n",
       "      <td>0</td>\n",
       "      <td>0</td>\n",
       "    </tr>\n",
       "    <tr>\n",
       "      <th>2017-11-13</th>\n",
       "      <td>0.024364</td>\n",
       "      <td>0.026300</td>\n",
       "      <td>0.023495</td>\n",
       "      <td>0.025808</td>\n",
       "      <td>4419440</td>\n",
       "      <td>0</td>\n",
       "      <td>0</td>\n",
       "    </tr>\n",
       "    <tr>\n",
       "      <th>...</th>\n",
       "      <td>...</td>\n",
       "      <td>...</td>\n",
       "      <td>...</td>\n",
       "      <td>...</td>\n",
       "      <td>...</td>\n",
       "      <td>...</td>\n",
       "      <td>...</td>\n",
       "    </tr>\n",
       "    <tr>\n",
       "      <th>2022-08-08</th>\n",
       "      <td>0.527488</td>\n",
       "      <td>0.548407</td>\n",
       "      <td>0.523633</td>\n",
       "      <td>0.536596</td>\n",
       "      <td>782794306</td>\n",
       "      <td>0</td>\n",
       "      <td>0</td>\n",
       "    </tr>\n",
       "    <tr>\n",
       "      <th>2022-08-09</th>\n",
       "      <td>0.536656</td>\n",
       "      <td>0.537085</td>\n",
       "      <td>0.507641</td>\n",
       "      <td>0.514052</td>\n",
       "      <td>636681258</td>\n",
       "      <td>0</td>\n",
       "      <td>0</td>\n",
       "    </tr>\n",
       "    <tr>\n",
       "      <th>2022-08-10</th>\n",
       "      <td>0.513992</td>\n",
       "      <td>0.537886</td>\n",
       "      <td>0.504061</td>\n",
       "      <td>0.537093</td>\n",
       "      <td>816259967</td>\n",
       "      <td>0</td>\n",
       "      <td>0</td>\n",
       "    </tr>\n",
       "    <tr>\n",
       "      <th>2022-08-11</th>\n",
       "      <td>0.537104</td>\n",
       "      <td>0.546598</td>\n",
       "      <td>0.529891</td>\n",
       "      <td>0.531258</td>\n",
       "      <td>819277170</td>\n",
       "      <td>0</td>\n",
       "      <td>0</td>\n",
       "    </tr>\n",
       "    <tr>\n",
       "      <th>2022-08-12</th>\n",
       "      <td>0.531195</td>\n",
       "      <td>0.541442</td>\n",
       "      <td>0.522035</td>\n",
       "      <td>0.540753</td>\n",
       "      <td>538287825</td>\n",
       "      <td>0</td>\n",
       "      <td>0</td>\n",
       "    </tr>\n",
       "  </tbody>\n",
       "</table>\n",
       "<p>1738 rows × 7 columns</p>\n",
       "</div>"
      ],
      "text/plain": [
       "                Open      High       Low     Close     Volume  Dividends  \\\n",
       "Date                                                                       \n",
       "2017-11-09  0.025160  0.035060  0.025006  0.032053   18716200          0   \n",
       "2017-11-10  0.032219  0.033348  0.026451  0.027119    6766780          0   \n",
       "2017-11-11  0.026891  0.029659  0.025684  0.027437    5532220          0   \n",
       "2017-11-12  0.027480  0.027952  0.022591  0.023977    7280250          0   \n",
       "2017-11-13  0.024364  0.026300  0.023495  0.025808    4419440          0   \n",
       "...              ...       ...       ...       ...        ...        ...   \n",
       "2022-08-08  0.527488  0.548407  0.523633  0.536596  782794306          0   \n",
       "2022-08-09  0.536656  0.537085  0.507641  0.514052  636681258          0   \n",
       "2022-08-10  0.513992  0.537886  0.504061  0.537093  816259967          0   \n",
       "2022-08-11  0.537104  0.546598  0.529891  0.531258  819277170          0   \n",
       "2022-08-12  0.531195  0.541442  0.522035  0.540753  538287825          0   \n",
       "\n",
       "            Stock Splits  \n",
       "Date                      \n",
       "2017-11-09             0  \n",
       "2017-11-10             0  \n",
       "2017-11-11             0  \n",
       "2017-11-12             0  \n",
       "2017-11-13             0  \n",
       "...                  ...  \n",
       "2022-08-08             0  \n",
       "2022-08-09             0  \n",
       "2022-08-10             0  \n",
       "2022-08-11             0  \n",
       "2022-08-12             0  \n",
       "\n",
       "[1738 rows x 7 columns]"
      ]
     },
     "execution_count": 5,
     "metadata": {},
     "output_type": "execute_result"
    }
   ],
   "source": [
    "hist"
   ]
  },
  {
   "cell_type": "markdown",
   "id": "9e408bd3",
   "metadata": {},
   "source": [
    "### Create SQLite Database ###"
   ]
  },
  {
   "cell_type": "code",
   "execution_count": 7,
   "id": "2a9b823f",
   "metadata": {},
   "outputs": [],
   "source": [
    "import sqlalchemy as sql"
   ]
  },
  {
   "cell_type": "code",
   "execution_count": 8,
   "id": "e3d376e6",
   "metadata": {},
   "outputs": [],
   "source": [
    "engine=sql.create_engine('sqlite:///ada_price_db.db')"
   ]
  },
  {
   "cell_type": "code",
   "execution_count": 9,
   "id": "9d3a4200",
   "metadata": {},
   "outputs": [
    {
     "name": "stderr",
     "output_type": "stream",
     "text": [
      "/Users/DottiP/opt/anaconda3/envs/PythonData/lib/python3.7/site-packages/ipykernel_launcher.py:2: SettingWithCopyWarning: \n",
      "A value is trying to be set on a copy of a slice from a DataFrame.\n",
      "Try using .loc[row_indexer,col_indexer] = value instead\n",
      "\n",
      "See the caveats in the documentation: https://pandas.pydata.org/pandas-docs/stable/user_guide/indexing.html#returning-a-view-versus-a-copy\n",
      "  \n"
     ]
    },
    {
     "data": {
      "text/html": [
       "<div>\n",
       "<style scoped>\n",
       "    .dataframe tbody tr th:only-of-type {\n",
       "        vertical-align: middle;\n",
       "    }\n",
       "\n",
       "    .dataframe tbody tr th {\n",
       "        vertical-align: top;\n",
       "    }\n",
       "\n",
       "    .dataframe thead th {\n",
       "        text-align: right;\n",
       "    }\n",
       "</style>\n",
       "<table border=\"1\" class=\"dataframe\">\n",
       "  <thead>\n",
       "    <tr style=\"text-align: right;\">\n",
       "      <th></th>\n",
       "      <th>Date</th>\n",
       "      <th>Close</th>\n",
       "      <th>Volume</th>\n",
       "      <th>Ticker</th>\n",
       "    </tr>\n",
       "  </thead>\n",
       "  <tbody>\n",
       "    <tr>\n",
       "      <th>0</th>\n",
       "      <td>2017-11-09</td>\n",
       "      <td>0.032053</td>\n",
       "      <td>18716200</td>\n",
       "      <td>ADA</td>\n",
       "    </tr>\n",
       "    <tr>\n",
       "      <th>1</th>\n",
       "      <td>2017-11-10</td>\n",
       "      <td>0.027119</td>\n",
       "      <td>6766780</td>\n",
       "      <td>ADA</td>\n",
       "    </tr>\n",
       "    <tr>\n",
       "      <th>2</th>\n",
       "      <td>2017-11-11</td>\n",
       "      <td>0.027437</td>\n",
       "      <td>5532220</td>\n",
       "      <td>ADA</td>\n",
       "    </tr>\n",
       "    <tr>\n",
       "      <th>3</th>\n",
       "      <td>2017-11-12</td>\n",
       "      <td>0.023977</td>\n",
       "      <td>7280250</td>\n",
       "      <td>ADA</td>\n",
       "    </tr>\n",
       "    <tr>\n",
       "      <th>4</th>\n",
       "      <td>2017-11-13</td>\n",
       "      <td>0.025808</td>\n",
       "      <td>4419440</td>\n",
       "      <td>ADA</td>\n",
       "    </tr>\n",
       "  </tbody>\n",
       "</table>\n",
       "</div>"
      ],
      "text/plain": [
       "        Date     Close    Volume Ticker\n",
       "0 2017-11-09  0.032053  18716200    ADA\n",
       "1 2017-11-10  0.027119   6766780    ADA\n",
       "2 2017-11-11  0.027437   5532220    ADA\n",
       "3 2017-11-12  0.023977   7280250    ADA\n",
       "4 2017-11-13  0.025808   4419440    ADA"
      ]
     },
     "execution_count": 9,
     "metadata": {},
     "output_type": "execute_result"
    }
   ],
   "source": [
    "data=hist[['Close', 'Volume']]\n",
    "data['Ticker']='ADA'\n",
    "data=data.reset_index()\n",
    "data.head()"
   ]
  },
  {
   "cell_type": "code",
   "execution_count": 10,
   "id": "c871825a",
   "metadata": {},
   "outputs": [],
   "source": [
    "data.to_sql('ada_price', con=engine)"
   ]
  },
  {
   "cell_type": "code",
   "execution_count": null,
   "id": "a77ab55b",
   "metadata": {},
   "outputs": [],
   "source": []
  }
 ],
 "metadata": {
  "kernelspec": {
   "display_name": "Python 3 (ipykernel)",
   "language": "python",
   "name": "python3"
  },
  "language_info": {
   "codemirror_mode": {
    "name": "ipython",
    "version": 3
   },
   "file_extension": ".py",
   "mimetype": "text/x-python",
   "name": "python",
   "nbconvert_exporter": "python",
   "pygments_lexer": "ipython3",
   "version": "3.7.11"
  }
 },
 "nbformat": 4,
 "nbformat_minor": 5
}
